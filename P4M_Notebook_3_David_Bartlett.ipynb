{
  "nbformat": 4,
  "nbformat_minor": 0,
  "metadata": {
    "kernelspec": {
      "display_name": "Python 3",
      "language": "python",
      "name": "python3"
    },
    "language_info": {
      "codemirror_mode": {
        "name": "ipython",
        "version": 3
      },
      "file_extension": ".py",
      "mimetype": "text/x-python",
      "name": "python",
      "nbconvert_exporter": "python",
      "pygments_lexer": "ipython3",
      "version": "3.6.7"
    },
    "colab": {
      "name": "P4M Notebook 3 David Bartlett.ipynb",
      "provenance": [],
      "collapsed_sections": [
        "k3Isc4hVo1Nm",
        "Gk4qkCSEo1No",
        "2dTiwVYho1Nr",
        "g7PBhl-1o1Ns",
        "RMN4XjXHo1Nu",
        "R8ihF72RqYAx",
        "LjAPaRcKrj-4",
        "TBQTFLT5sK0Y",
        "VEFtkpknsaP7",
        "hk3TpEVKG1GQ",
        "0QEXFQKIG4mi",
        "7frhJTrkG8a0"
      ],
      "toc_visible": true,
      "include_colab_link": true
    }
  },
  "cells": [
    {
      "cell_type": "markdown",
      "metadata": {
        "id": "view-in-github",
        "colab_type": "text"
      },
      "source": [
        "<a href=\"https://colab.research.google.com/github/cloudypeppers/Programming-for-Math/blob/main/P4M_Notebook_3_David_Bartlett.ipynb\" target=\"_parent\"><img src=\"https://colab.research.google.com/assets/colab-badge.svg\" alt=\"Open In Colab\"/></a>"
      ]
    },
    {
      "cell_type": "markdown",
      "metadata": {
        "id": "6wh71ZCco1Nc"
      },
      "source": [
        "# Part 3:  Lists\n",
        "\n",
        "Python provides a powerful set of tools to create and manipulate lists of data. In this part, we take a deep dive into the Python list type.  This includes mutability, list methods, and slicing.\n",
        "\n",
        "\n",
        "Then we use Python lists to implement and optimize the Sieve of Eratosthenes, which will produce a list of all prime numbers up to a big number (like 10 million) in a snap. Along the way, we introduce some Python techniques for data analysis and visualization."
      ]
    },
    {
      "cell_type": "markdown",
      "metadata": {
        "id": "V1d8-qavo1Ng"
      },
      "source": [
        "## Primality testing"
      ]
    },
    {
      "cell_type": "markdown",
      "metadata": {
        "id": "o8GcrfMBo1Ng"
      },
      "source": [
        "Before diving into lists, we recall the **brute force** primality test that we created in the last lesson.  To test whether a number `n` is prime, we can simply check for factors.  This yields the following primality test."
      ]
    },
    {
      "cell_type": "code",
      "metadata": {
        "id": "PmShUfrWo1Nh"
      },
      "source": [
        "def is_prime(n):\n",
        "    '''\n",
        "    Checks whether the argument n is a prime number.\n",
        "    Uses a brute force search for factors between 1 and n.\n",
        "    '''\n",
        "    for j in range(2,n):  # the range of numbers 2,3,...,n-1.\n",
        "        if n%j == 0:  # is n divisible by j?\n",
        "            print(\"{} is a factor of {}.\".format(j,n))\n",
        "            return False\n",
        "    return True"
      ],
      "execution_count": null,
      "outputs": []
    },
    {
      "cell_type": "markdown",
      "metadata": {
        "id": "ps6dGQ_lo1Nh"
      },
      "source": [
        "We can also implement this test with a **while loop** instead of a for loop.  This doesn't make much of a difference, in Python 3.x.  (In Python 2.x, this would save memory)."
      ]
    },
    {
      "cell_type": "code",
      "metadata": {
        "id": "uyU1DxPjo1Nh"
      },
      "source": [
        "def is_prime(n):\n",
        "    '''\n",
        "    Checks whether the argument n is a prime number.\n",
        "    Uses a brute force search for factors between 1 and n.\n",
        "    '''\n",
        "    j = 2\n",
        "    while j < n:  # j will proceed through the list of numbers 2,3,...,n-1.\n",
        "        if n%j == 0:  # is n divisible by j?\n",
        "            print(\"{} is a factor of {}.\".format(j,n))\n",
        "            return False\n",
        "        j = j + 1  # There's a Python abbreviation for this:  j += 1.\n",
        "    return True"
      ],
      "execution_count": null,
      "outputs": []
    },
    {
      "cell_type": "code",
      "metadata": {
        "id": "n8VNDo3Ro1Nh",
        "colab": {
          "base_uri": "https://localhost:8080/"
        },
        "outputId": "89fc10f3-3b4f-4260-ab54-e23b0c088307"
      },
      "source": [
        "is_prime(10001)"
      ],
      "execution_count": null,
      "outputs": [
        {
          "output_type": "stream",
          "text": [
            "73 is a factor of 10001.\n"
          ],
          "name": "stdout"
        },
        {
          "output_type": "execute_result",
          "data": {
            "text/plain": [
              "False"
            ]
          },
          "metadata": {
            "tags": []
          },
          "execution_count": 2
        }
      ]
    },
    {
      "cell_type": "code",
      "metadata": {
        "id": "EwsTzmDJo1Nh",
        "colab": {
          "base_uri": "https://localhost:8080/"
        },
        "outputId": "bd5abf2e-287d-4bc6-f95c-652132b4a7e4"
      },
      "source": [
        "is_prime(101)"
      ],
      "execution_count": null,
      "outputs": [
        {
          "output_type": "execute_result",
          "data": {
            "text/plain": [
              "True"
            ]
          },
          "metadata": {
            "tags": []
          },
          "execution_count": 3
        }
      ]
    },
    {
      "cell_type": "markdown",
      "metadata": {
        "id": "LMiisxZko1Ni"
      },
      "source": [
        "If $n$ is a prime number, then the `is_prime(n)` function will iterate through all the numbers between $2$ and $n-1$.  But this is overkill!  Indeed, if $n$ is not prime, it will have a factor between $2$ and the square root of $n$.  This is because factors come in pairs:  if $ab = n$, then one of the factors, $a$ or $b$, must be less than or equal to the square root of $n$.  So it suffices to search for factors up to (and including) the square root of $n$."
      ]
    },
    {
      "cell_type": "markdown",
      "metadata": {
        "id": "QlS5mEtko1Ni"
      },
      "source": [
        "Even though we've made our own sqrt function, we load a fast one from the [standard math package](https://docs.python.org/3/library/math.html).  You can use this for square roots, trig functions, logs, and more.  Click the previous link for documentation.  This package doesn't load automatically when you start Python, so you have to load it with a little Python code."
      ]
    },
    {
      "cell_type": "code",
      "metadata": {
        "id": "StYgB3R2o1Ni"
      },
      "source": [
        "from math import sqrt"
      ],
      "execution_count": 355,
      "outputs": []
    },
    {
      "cell_type": "markdown",
      "metadata": {
        "id": "g5qCsftto1Ni"
      },
      "source": [
        "This command **imports** the square root function (`sqrt`) from the **package** called `math`.  Now you can find square roots."
      ]
    },
    {
      "cell_type": "code",
      "metadata": {
        "id": "yky_CASQo1Ni",
        "colab": {
          "base_uri": "https://localhost:8080/"
        },
        "outputId": "1e562aec-6bf2-4146-adac-00c6b7f28a43"
      },
      "source": [
        "sqrt(1000)"
      ],
      "execution_count": 356,
      "outputs": [
        {
          "output_type": "execute_result",
          "data": {
            "text/plain": [
              "31.622776601683793"
            ]
          },
          "metadata": {
            "tags": []
          },
          "execution_count": 356
        }
      ]
    },
    {
      "cell_type": "markdown",
      "metadata": {
        "id": "G6KIJi-Go1Ni"
      },
      "source": [
        "There are a few different ways to import functions from packages.  The above syntax is a good starting point, but sometimes problems can arise if different packages have functions with the same name.  Here are a few methods of importing the `sqrt` function and how they differ.\n",
        "\n",
        "`from math import sqrt`:  After this command, `sqrt` will refer to the function from the `math` package (overriding any previous definition).\n",
        "\n",
        "`import math`:  After this command, all the functions from the `math` package will be imported.  But to call `sqrt`, you would type a command like `math.sqrt(1000)`.  This is convenient if there are potential conflicts with other packages.\n",
        "\n",
        "`from math import *`:  After this command, all the functions from the `math` package will be imported.  To call them, you can access them directly with a command like `sqrt(1000)`.  This can easily cause conflicts with other packages, since packages can have hundreds of functions in them!\n",
        "\n",
        "`import math as mth`:  Some people like abbreviations.  This imports all the functions from the `math` package.  To call one, you type a command like `mth.sqrt(1000)`. "
      ]
    },
    {
      "cell_type": "code",
      "metadata": {
        "id": "DkMBWCH2o1Nj"
      },
      "source": [
        "import math"
      ],
      "execution_count": 357,
      "outputs": []
    },
    {
      "cell_type": "code",
      "metadata": {
        "id": "JCOkoqBJo1Nj",
        "colab": {
          "base_uri": "https://localhost:8080/"
        },
        "outputId": "c9125129-c339-43cc-9e2a-47c2274bd111"
      },
      "source": [
        "math.sqrt(1000)"
      ],
      "execution_count": 358,
      "outputs": [
        {
          "output_type": "execute_result",
          "data": {
            "text/plain": [
              "31.622776601683793"
            ]
          },
          "metadata": {
            "tags": []
          },
          "execution_count": 358
        }
      ]
    },
    {
      "cell_type": "code",
      "metadata": {
        "id": "1wHHxCBvo1Nj",
        "colab": {
          "base_uri": "https://localhost:8080/",
          "height": 164
        },
        "outputId": "6e60e4a8-62b0-432e-fb09-707068ac27b5"
      },
      "source": [
        "factorial(10)  # This will cause an error!"
      ],
      "execution_count": 360,
      "outputs": [
        {
          "output_type": "error",
          "ename": "NameError",
          "evalue": "ignored",
          "traceback": [
            "\u001b[0;31m---------------------------------------------------------------------------\u001b[0m",
            "\u001b[0;31mNameError\u001b[0m                                 Traceback (most recent call last)",
            "\u001b[0;32m<ipython-input-360-e379444d4994>\u001b[0m in \u001b[0;36m<module>\u001b[0;34m()\u001b[0m\n\u001b[0;32m----> 1\u001b[0;31m \u001b[0mfactorial\u001b[0m\u001b[0;34m(\u001b[0m\u001b[0;36m10\u001b[0m\u001b[0;34m)\u001b[0m  \u001b[0;31m# This will cause an error!\u001b[0m\u001b[0;34m\u001b[0m\u001b[0;34m\u001b[0m\u001b[0m\n\u001b[0m",
            "\u001b[0;31mNameError\u001b[0m: name 'factorial' is not defined"
          ]
        }
      ]
    },
    {
      "cell_type": "code",
      "metadata": {
        "id": "q3_f65bdo1Nj",
        "colab": {
          "base_uri": "https://localhost:8080/"
        },
        "outputId": "b61ce501-7cd5-4279-b35f-ed0c686cc895"
      },
      "source": [
        "math.factorial(10)  # This is ok, since the math package comes with a function called factorial."
      ],
      "execution_count": 361,
      "outputs": [
        {
          "output_type": "execute_result",
          "data": {
            "text/plain": [
              "3628800"
            ]
          },
          "metadata": {
            "tags": []
          },
          "execution_count": 361
        }
      ]
    },
    {
      "cell_type": "markdown",
      "metadata": {
        "id": "PercB7IRo1Nj"
      },
      "source": [
        "Now let's improve our `is_prime(n)` function by searching for factors only up to the square root of the number `n`.  We consider two options."
      ]
    },
    {
      "cell_type": "code",
      "metadata": {
        "id": "1jFrsNtvo1Nj"
      },
      "source": [
        "def is_prime_slow(n):\n",
        "    '''\n",
        "    Checks whether the argument n is a prime number.\n",
        "    Uses a brute force search for factors between 1 and n.\n",
        "    '''\n",
        "    j = 2\n",
        "    while j <= sqrt(n):  # j will proceed through the list of numbers 2,3,... up to sqrt(n).\n",
        "        if n%j == 0:  # is n divisible by j?\n",
        "            print(\"{} is a factor of {}.\".format(j,n))\n",
        "            return False\n",
        "        j = j + 1  # There's a Python abbreviation for this:  j += 1.\n",
        "    return True"
      ],
      "execution_count": 362,
      "outputs": []
    },
    {
      "cell_type": "code",
      "metadata": {
        "id": "kivEWwP8o1Nj"
      },
      "source": [
        "def is_prime_fast(n):\n",
        "    '''\n",
        "    Checks whether the argument n is a prime number.\n",
        "    Uses a brute force search for factors between 1 and n.\n",
        "    '''\n",
        "    j = 2\n",
        "    root_n = sqrt(n)\n",
        "    while j <= root_n:  # j will proceed through the list of numbers 2,3,... up to sqrt(n).\n",
        "        if n%j == 0:  # is n divisible by j?\n",
        "            print(\"{} is a factor of {}.\".format(j,n))\n",
        "            return False\n",
        "        j = j + 1  # There's a Python abbreviation for this:  j += 1.\n",
        "    return True"
      ],
      "execution_count": 409,
      "outputs": []
    },
    {
      "cell_type": "code",
      "metadata": {
        "id": "MYRn_kwAo1Nk",
        "colab": {
          "base_uri": "https://localhost:8080/"
        },
        "outputId": "0aea5710-c732-47a4-95cf-6bbcb9b58db3"
      },
      "source": [
        "is_prime_fast(1000003)"
      ],
      "execution_count": 364,
      "outputs": [
        {
          "output_type": "execute_result",
          "data": {
            "text/plain": [
              "True"
            ]
          },
          "metadata": {
            "tags": []
          },
          "execution_count": 364
        }
      ]
    },
    {
      "cell_type": "code",
      "metadata": {
        "id": "CycTNs3Yo1Nk",
        "colab": {
          "base_uri": "https://localhost:8080/"
        },
        "outputId": "4d0a54bb-42b3-4e19-ec37-5253caec2ba4"
      },
      "source": [
        "is_prime_slow(1000003)"
      ],
      "execution_count": 365,
      "outputs": [
        {
          "output_type": "execute_result",
          "data": {
            "text/plain": [
              "True"
            ]
          },
          "metadata": {
            "tags": []
          },
          "execution_count": 365
        }
      ]
    },
    {
      "cell_type": "markdown",
      "metadata": {
        "id": "a2_C-DRco1Nk"
      },
      "source": [
        "I've chosen function names with \"fast\" and \"slow\" in them.  But what makes them faster or slower?  Are they faster than the original?  And how can we tell?\n",
        "\n",
        "Python comes with a great set of tools for these questions.  The simplest (for the user) are the time utilities.  By placing the **magic** `%timeit` before a command, Python does something like the following:\n",
        "\n",
        "1.  Python makes a little container in your computer devoted to the computations, to avoid interference from other running programs if possible.\n",
        "2.  Python executes the command lots and lots of times.\n",
        "3.  Python averages the amount of time taken for each execution.  \n",
        "\n",
        "Give it a try below, to compare the speed of the functions `is_prime` (the original) with the new `is_prime_fast` and `is_prime_slow`.  Note that the `%timeit` commands might take a little while."
      ]
    },
    {
      "cell_type": "code",
      "metadata": {
        "id": "9362eqX8o1Nk",
        "colab": {
          "base_uri": "https://localhost:8080/"
        },
        "outputId": "3df5a1e8-b74e-4f9d-e945-21d7648f50f4"
      },
      "source": [
        "%timeit is_prime_fast(1000003)"
      ],
      "execution_count": 366,
      "outputs": [
        {
          "output_type": "stream",
          "text": [
            "10000 loops, best of 3: 116 µs per loop\n"
          ],
          "name": "stdout"
        }
      ]
    },
    {
      "cell_type": "code",
      "metadata": {
        "id": "GlQqgs6Fo1Nk",
        "colab": {
          "base_uri": "https://localhost:8080/"
        },
        "outputId": "cb8e4f90-38c6-4e07-afb7-daccba1fac72"
      },
      "source": [
        "%timeit is_prime_slow(1000003)"
      ],
      "execution_count": null,
      "outputs": [
        {
          "output_type": "stream",
          "text": [
            "10000 loops, best of 3: 156 µs per loop\n"
          ],
          "name": "stdout"
        }
      ]
    },
    {
      "cell_type": "code",
      "metadata": {
        "id": "MMoNyEsOo1Nk",
        "colab": {
          "base_uri": "https://localhost:8080/"
        },
        "outputId": "a365791c-7d21-4231-dfe2-83dd45712e52"
      },
      "source": [
        "%timeit is_prime(1000003)"
      ],
      "execution_count": null,
      "outputs": [
        {
          "output_type": "stream",
          "text": [
            "10 loops, best of 3: 104 ms per loop\n"
          ],
          "name": "stdout"
        }
      ]
    },
    {
      "cell_type": "markdown",
      "metadata": {
        "id": "uR7IkJbEo1Nk"
      },
      "source": [
        "Time is measured in seconds, milliseconds (1 ms = 1/1000 second), microseconds (1 µs = 1/1,000,000 second), and nanoseconds (1 ns = 1/1,000,000,000 second).  So it might appear at first that `is_prime` is the fastest, or about the same speed.  But check the units!  The other two approaches are about a thousand times faster!  How much faster were they on your computer?"
      ]
    },
    {
      "cell_type": "code",
      "metadata": {
        "id": "hPOknCuUo1Nk",
        "colab": {
          "base_uri": "https://localhost:8080/"
        },
        "outputId": "712b94b1-31e4-4cfb-ed75-102c61738c20"
      },
      "source": [
        "is_prime_fast(10000000000037)  # Don't try this with `is_prime` unless you want to wait for a long time!"
      ],
      "execution_count": null,
      "outputs": [
        {
          "output_type": "execute_result",
          "data": {
            "text/plain": [
              "True"
            ]
          },
          "metadata": {
            "tags": []
          },
          "execution_count": 17
        }
      ]
    },
    {
      "cell_type": "markdown",
      "metadata": {
        "id": "YtkronFFo1Nl"
      },
      "source": [
        "Indeed, the `is_prime_fast(n)` function will go through a loop of length about `sqrt(n)` when `n` is prime.  But `is_prime(n)` will go through a loop of length about `n`.  Since `sqrt(n)` is much less than `n`, especially when `n` is large, the `is_prime_fast(n)` function is much faster.\n",
        "\n",
        "Between `is_prime_fast` and `is_prime_slow`, the difference is that the `fast` version **precomputes** the square root `sqrt(n)` before going through the loop, where the `slow` version repeats the `sqrt(n)` every time the loop is repeated.  Indeed, writing `while j <= sqrt(n):` suggests that Python might execute `sqrt(n)` every time to check.  This *might* lead to Python computing the same square root a million times... unnecessarily!  \n",
        "\n",
        "A basic principle of programming is to **avoid repetition**.  If you have the memory space, just compute once and store the result.  It will probably be faster to pull the result out of memory than to compute it again.\n",
        "\n",
        "Python does tend to be pretty smart, however.  It's possible that Python **is precomputing** `sqrt(n)` even in the slow loop, just because it's clever enough to tell in advance that the same thing is being computed over and over again.  This depends on your Python version and takes place behind the scenes.  If you want to figure it out, there's a whole set of tools (for advanced programmers) like the [disassembler](https://docs.python.org/3/library/dis.html) to figure out what Python is doing.\n",
        "\n",
        "If you feel like looking under the hood, the next few lines will display the `is_prime_fast` and `is_prime_slow` functions to bytecode.  Can you see how the `sqrt(n)` computation is carried out differently?"
      ]
    },
    {
      "cell_type": "code",
      "metadata": {
        "id": "hislzK3Lo1Nl"
      },
      "source": [
        "from dis import dis"
      ],
      "execution_count": null,
      "outputs": []
    },
    {
      "cell_type": "code",
      "metadata": {
        "id": "wQX1FSObo1Nl",
        "colab": {
          "base_uri": "https://localhost:8080/"
        },
        "outputId": "ea6d2ab8-9ba4-45ac-b452-54db264372cd"
      },
      "source": [
        "dis(is_prime_fast)"
      ],
      "execution_count": null,
      "outputs": [
        {
          "output_type": "stream",
          "text": [
            "  6           0 LOAD_CONST               1 (2)\n",
            "              2 STORE_FAST               1 (j)\n",
            "\n",
            "  7           4 LOAD_GLOBAL              0 (sqrt)\n",
            "              6 LOAD_FAST                0 (n)\n",
            "              8 CALL_FUNCTION            1\n",
            "             10 STORE_FAST               2 (root_n)\n",
            "\n",
            "  8          12 SETUP_LOOP              52 (to 66)\n",
            "        >>   14 LOAD_FAST                1 (j)\n",
            "             16 LOAD_FAST                2 (root_n)\n",
            "             18 COMPARE_OP               1 (<=)\n",
            "             20 POP_JUMP_IF_FALSE       64\n",
            "\n",
            "  9          22 LOAD_FAST                0 (n)\n",
            "             24 LOAD_FAST                1 (j)\n",
            "             26 BINARY_MODULO\n",
            "             28 LOAD_CONST               2 (0)\n",
            "             30 COMPARE_OP               2 (==)\n",
            "             32 POP_JUMP_IF_FALSE       54\n",
            "\n",
            " 10          34 LOAD_GLOBAL              1 (print)\n",
            "             36 LOAD_CONST               3 ('{} is a factor of {}.')\n",
            "             38 LOAD_ATTR                2 (format)\n",
            "             40 LOAD_FAST                1 (j)\n",
            "             42 LOAD_FAST                0 (n)\n",
            "             44 CALL_FUNCTION            2\n",
            "             46 CALL_FUNCTION            1\n",
            "             48 POP_TOP\n",
            "\n",
            " 11          50 LOAD_CONST               4 (False)\n",
            "             52 RETURN_VALUE\n",
            "\n",
            " 12     >>   54 LOAD_FAST                1 (j)\n",
            "             56 LOAD_CONST               5 (1)\n",
            "             58 BINARY_ADD\n",
            "             60 STORE_FAST               1 (j)\n",
            "             62 JUMP_ABSOLUTE           14\n",
            "        >>   64 POP_BLOCK\n",
            "\n",
            " 13     >>   66 LOAD_CONST               6 (True)\n",
            "             68 RETURN_VALUE\n"
          ],
          "name": "stdout"
        }
      ]
    },
    {
      "cell_type": "code",
      "metadata": {
        "id": "M_T0805ko1Nl",
        "colab": {
          "base_uri": "https://localhost:8080/"
        },
        "outputId": "adef7f16-30e7-4676-f457-f67b44d59bc8"
      },
      "source": [
        "dis(is_prime_slow)"
      ],
      "execution_count": null,
      "outputs": [
        {
          "output_type": "stream",
          "text": [
            "  6           0 LOAD_CONST               1 (2)\n",
            "              2 STORE_FAST               1 (j)\n",
            "\n",
            "  7           4 SETUP_LOOP              56 (to 62)\n",
            "        >>    6 LOAD_FAST                1 (j)\n",
            "              8 LOAD_GLOBAL              0 (sqrt)\n",
            "             10 LOAD_FAST                0 (n)\n",
            "             12 CALL_FUNCTION            1\n",
            "             14 COMPARE_OP               1 (<=)\n",
            "             16 POP_JUMP_IF_FALSE       60\n",
            "\n",
            "  8          18 LOAD_FAST                0 (n)\n",
            "             20 LOAD_FAST                1 (j)\n",
            "             22 BINARY_MODULO\n",
            "             24 LOAD_CONST               2 (0)\n",
            "             26 COMPARE_OP               2 (==)\n",
            "             28 POP_JUMP_IF_FALSE       50\n",
            "\n",
            "  9          30 LOAD_GLOBAL              1 (print)\n",
            "             32 LOAD_CONST               3 ('{} is a factor of {}.')\n",
            "             34 LOAD_ATTR                2 (format)\n",
            "             36 LOAD_FAST                1 (j)\n",
            "             38 LOAD_FAST                0 (n)\n",
            "             40 CALL_FUNCTION            2\n",
            "             42 CALL_FUNCTION            1\n",
            "             44 POP_TOP\n",
            "\n",
            " 10          46 LOAD_CONST               4 (False)\n",
            "             48 RETURN_VALUE\n",
            "\n",
            " 11     >>   50 LOAD_FAST                1 (j)\n",
            "             52 LOAD_CONST               5 (1)\n",
            "             54 BINARY_ADD\n",
            "             56 STORE_FAST               1 (j)\n",
            "             58 JUMP_ABSOLUTE            6\n",
            "        >>   60 POP_BLOCK\n",
            "\n",
            " 12     >>   62 LOAD_CONST               6 (True)\n",
            "             64 RETURN_VALUE\n"
          ],
          "name": "stdout"
        }
      ]
    },
    {
      "cell_type": "code",
      "metadata": {
        "id": "1mendW3Uo1Nl",
        "colab": {
          "base_uri": "https://localhost:8080/"
        },
        "outputId": "026da5b0-3c7d-4492-98b2-c828512f94e8"
      },
      "source": [
        "is_prime_fast(10**14 + 37) # This might get a bit of delay."
      ],
      "execution_count": null,
      "outputs": [
        {
          "output_type": "stream",
          "text": [
            "1858741 is a factor of 100000000000037.\n"
          ],
          "name": "stdout"
        },
        {
          "output_type": "execute_result",
          "data": {
            "text/plain": [
              "False"
            ]
          },
          "metadata": {
            "tags": []
          },
          "execution_count": 21
        }
      ]
    },
    {
      "cell_type": "markdown",
      "metadata": {
        "id": "DUEOKxtoo1Nm"
      },
      "source": [
        "Now we have a function `is_prime_fast(n)` that is speedy for numbers `n` in the trillions!  You'll probably start to hit a delay around $10^{15}$ or so, and the delays will become intolerable if you add too many more digits.  In a future lesson, we will see a different primality test that will be essentially instant even for numbers around $10^{1000}$!  "
      ]
    },
    {
      "cell_type": "markdown",
      "metadata": {
        "id": "NCv3bAIco1Nm"
      },
      "source": [
        "### Exercises\n",
        "\n",
        "1.  To check whether a number `n` is prime, you can first check whether `n` is even, and then check whether `n` has any odd factors.  Change the `is_prime_fast` function by implementing this improvement.  How much of a speedup did you get?\n",
        "\n",
        "2.  Use the `%timeit` tool to study the speed of `is_prime_fast` for various sizes of `n`.  Using about 10 data points, relate the size of `n` to the time taken by the `is_prime_fast` function.\n",
        "\n",
        "3.  Write a function `is_square(n)` to test whether a given integer `n` is a perfect square (like 0, 1, 4, 9, 16, etc.).  How fast can you make it run?  Describe the different approaches you try and which are fastest."
      ]
    },
    {
      "cell_type": "markdown",
      "metadata": {
        "id": "O3ZR1-PYqcBk"
      },
      "source": [
        "####Question 1"
      ]
    },
    {
      "cell_type": "code",
      "metadata": {
        "id": "AowtOM6UhNin"
      },
      "source": [
        "def is_prime_fast(n):\n",
        "\n",
        "    if n%2 == 0 and n != 2:\n",
        "      raise ValueError(\"This number can't be prime\")\n",
        "      return None\n",
        "    if n == 2:\n",
        "      return True\n",
        "    \n",
        "    for i in range(2, n):\n",
        "      if n%i == 0:\n",
        "        return False\n",
        "      else:\n",
        "        return True\n"
      ],
      "execution_count": 389,
      "outputs": []
    },
    {
      "cell_type": "code",
      "metadata": {
        "colab": {
          "base_uri": "https://localhost:8080/"
        },
        "id": "qahQs2IVh0hQ",
        "outputId": "612cacfa-bb18-4564-c475-0b9fc352dcf9"
      },
      "source": [
        "is_prime_fast(107)"
      ],
      "execution_count": 393,
      "outputs": [
        {
          "output_type": "execute_result",
          "data": {
            "text/plain": [
              "True"
            ]
          },
          "metadata": {
            "tags": []
          },
          "execution_count": 393
        }
      ]
    },
    {
      "cell_type": "code",
      "metadata": {
        "colab": {
          "base_uri": "https://localhost:8080/"
        },
        "id": "CYrBTGAiAwlv",
        "outputId": "e8c7f1f5-0e36-4977-ae6b-a58e1be05991"
      },
      "source": [
        "%timeit is_prime_fast(1000003)"
      ],
      "execution_count": 372,
      "outputs": [
        {
          "output_type": "stream",
          "text": [
            "The slowest run took 8.26 times longer than the fastest. This could mean that an intermediate result is being cached.\n",
            "1000000 loops, best of 3: 424 ns per loop\n"
          ],
          "name": "stdout"
        }
      ]
    },
    {
      "cell_type": "markdown",
      "metadata": {
        "id": "8Tn1CrpGo6Cg"
      },
      "source": [
        "is_prime_fast was originally 116 microseconds per loop, now the function runs in the nanoseconds."
      ]
    },
    {
      "cell_type": "markdown",
      "metadata": {
        "id": "LmeQxzW5qjhG"
      },
      "source": [
        "####Question 2"
      ]
    },
    {
      "cell_type": "code",
      "metadata": {
        "colab": {
          "base_uri": "https://localhost:8080/"
        },
        "id": "cFDlYUWeitXU",
        "outputId": "31cbe8f7-9ea1-4e51-c1b4-676a88a23e8d"
      },
      "source": [
        "%timeit is_prime_fast(17)"
      ],
      "execution_count": 410,
      "outputs": [
        {
          "output_type": "stream",
          "text": [
            "The slowest run took 13.26 times longer than the fastest. This could mean that an intermediate result is being cached.\n",
            "1000000 loops, best of 3: 445 ns per loop\n"
          ],
          "name": "stdout"
        }
      ]
    },
    {
      "cell_type": "code",
      "metadata": {
        "colab": {
          "base_uri": "https://localhost:8080/"
        },
        "id": "rJmpGKIGtF9m",
        "outputId": "5f566788-8923-48a0-fe31-e0f0fca6a4d7"
      },
      "source": [
        "%timeit is_prime_fast(53)"
      ],
      "execution_count": 421,
      "outputs": [
        {
          "output_type": "stream",
          "text": [
            "The slowest run took 6.72 times longer than the fastest. This could mean that an intermediate result is being cached.\n",
            "1000000 loops, best of 3: 748 ns per loop\n"
          ],
          "name": "stdout"
        }
      ]
    },
    {
      "cell_type": "code",
      "metadata": {
        "colab": {
          "base_uri": "https://localhost:8080/"
        },
        "id": "F2Gvl48FjjQg",
        "outputId": "1d6756e9-181b-4571-8591-bcc5a24a961c"
      },
      "source": [
        "%timeit is_prime_fast(107)"
      ],
      "execution_count": 411,
      "outputs": [
        {
          "output_type": "stream",
          "text": [
            "The slowest run took 5.91 times longer than the fastest. This could mean that an intermediate result is being cached.\n",
            "1000000 loops, best of 3: 1.04 µs per loop\n"
          ],
          "name": "stdout"
        }
      ]
    },
    {
      "cell_type": "code",
      "metadata": {
        "colab": {
          "base_uri": "https://localhost:8080/"
        },
        "id": "n4dhK3t6tNJ2",
        "outputId": "1e6301f8-bcf5-42e3-e85f-22478111816e"
      },
      "source": [
        "%timeit is_prime_fast(353)"
      ],
      "execution_count": 422,
      "outputs": [
        {
          "output_type": "stream",
          "text": [
            "The slowest run took 4.51 times longer than the fastest. This could mean that an intermediate result is being cached.\n",
            "1000000 loops, best of 3: 1.82 µs per loop\n"
          ],
          "name": "stdout"
        }
      ]
    },
    {
      "cell_type": "code",
      "metadata": {
        "colab": {
          "base_uri": "https://localhost:8080/"
        },
        "id": "L-WOLoAMtUPF",
        "outputId": "bfe9e19c-651c-403b-95a9-ba6d06a8edf8"
      },
      "source": [
        "%timeit is_prime_fast(1009)"
      ],
      "execution_count": 423,
      "outputs": [
        {
          "output_type": "stream",
          "text": [
            "100000 loops, best of 3: 3.04 µs per loop\n"
          ],
          "name": "stdout"
        }
      ]
    },
    {
      "cell_type": "code",
      "metadata": {
        "colab": {
          "base_uri": "https://localhost:8080/"
        },
        "id": "hjtj_WSYj5a7",
        "outputId": "2aabe745-4f08-4ca0-dfdc-db082c04c880"
      },
      "source": [
        "%timeit is_prime_fast(10007)"
      ],
      "execution_count": 414,
      "outputs": [
        {
          "output_type": "stream",
          "text": [
            "100000 loops, best of 3: 9.71 µs per loop\n"
          ],
          "name": "stdout"
        }
      ]
    },
    {
      "cell_type": "code",
      "metadata": {
        "colab": {
          "base_uri": "https://localhost:8080/"
        },
        "id": "OncNCsVIuU5C",
        "outputId": "27442379-b92f-4b43-b533-164ae82f41c0"
      },
      "source": [
        "%timeit is_prime_fast(100003)"
      ],
      "execution_count": 440,
      "outputs": [
        {
          "output_type": "stream",
          "text": [
            "10000 loops, best of 3: 31 µs per loop\n"
          ],
          "name": "stdout"
        }
      ]
    },
    {
      "cell_type": "code",
      "metadata": {
        "colab": {
          "base_uri": "https://localhost:8080/"
        },
        "id": "pICyw34nsiZn",
        "outputId": "d4c4744e-9933-4e22-ce3f-0d484722a967"
      },
      "source": [
        "%timeit is_prime_fast(100000007)"
      ],
      "execution_count": 419,
      "outputs": [
        {
          "output_type": "stream",
          "text": [
            "1000 loops, best of 3: 1.22 ms per loop\n"
          ],
          "name": "stdout"
        }
      ]
    },
    {
      "cell_type": "code",
      "metadata": {
        "colab": {
          "base_uri": "https://localhost:8080/"
        },
        "id": "rBi7h2ELtMb_",
        "outputId": "d338b8f5-3ec3-4d30-d97a-3af7d1f38d1e"
      },
      "source": [
        "%timeit is_prime_fast(1000000007)"
      ],
      "execution_count": 426,
      "outputs": [
        {
          "output_type": "stream",
          "text": [
            "100 loops, best of 3: 3.85 ms per loop\n"
          ],
          "name": "stdout"
        }
      ]
    },
    {
      "cell_type": "code",
      "metadata": {
        "colab": {
          "base_uri": "https://localhost:8080/"
        },
        "id": "q7giYJOntwYz",
        "outputId": "41594e30-0d21-4234-fe71-df63b5cb4381"
      },
      "source": [
        "%timeit is_prime_fast(1000000009)"
      ],
      "execution_count": 434,
      "outputs": [
        {
          "output_type": "stream",
          "text": [
            "100 loops, best of 3: 3.86 ms per loop\n"
          ],
          "name": "stdout"
        }
      ]
    },
    {
      "cell_type": "markdown",
      "metadata": {
        "id": "P8nLckzcuiC_"
      },
      "source": [
        "The obvious take away of relating the size of n to the speed is that the larger n, the longer the runtime is. One can see as we start hitting the 8-9-10 digit numbers, the run time gets into the ms per loop. Toward the 2-7 digit numbers we see nanoseconds and microseconds. "
      ]
    },
    {
      "cell_type": "markdown",
      "metadata": {
        "id": "_97zc3VKqgo7"
      },
      "source": [
        "####Question 3"
      ]
    },
    {
      "cell_type": "code",
      "metadata": {
        "id": "BvCiLu2-kcLw"
      },
      "source": [
        "def is_square(n):\n",
        "  if n < 1:\n",
        "    return False\n",
        "  else:\n",
        "    for i in range((n//2)+ 1):\n",
        "      if (i * i) == n:\n",
        "        return True\n",
        "    return False"
      ],
      "execution_count": null,
      "outputs": []
    },
    {
      "cell_type": "code",
      "metadata": {
        "colab": {
          "base_uri": "https://localhost:8080/"
        },
        "id": "gKQEIJwOlCwN",
        "outputId": "37fbf917-7a1e-4d69-947a-14968f657d88"
      },
      "source": [
        "is_square(17)"
      ],
      "execution_count": null,
      "outputs": [
        {
          "output_type": "execute_result",
          "data": {
            "text/plain": [
              "False"
            ]
          },
          "metadata": {
            "tags": []
          },
          "execution_count": 103
        }
      ]
    },
    {
      "cell_type": "code",
      "metadata": {
        "colab": {
          "base_uri": "https://localhost:8080/"
        },
        "id": "97I81_i-lIf_",
        "outputId": "a5085ba3-b3c5-4488-a91d-f04f0e4861f0"
      },
      "source": [
        "is_square(16)"
      ],
      "execution_count": null,
      "outputs": [
        {
          "output_type": "execute_result",
          "data": {
            "text/plain": [
              "True"
            ]
          },
          "metadata": {
            "tags": []
          },
          "execution_count": 104
        }
      ]
    },
    {
      "cell_type": "code",
      "metadata": {
        "colab": {
          "base_uri": "https://localhost:8080/"
        },
        "id": "HQJYqT7bveDU",
        "outputId": "854ab6d3-5675-47d2-a71b-e14dd9775907"
      },
      "source": [
        "is_square(49)"
      ],
      "execution_count": 442,
      "outputs": [
        {
          "output_type": "execute_result",
          "data": {
            "text/plain": [
              "True"
            ]
          },
          "metadata": {
            "tags": []
          },
          "execution_count": 442
        }
      ]
    },
    {
      "cell_type": "markdown",
      "metadata": {
        "id": "fERuNKBivtis"
      },
      "source": [
        "This was the only approach that made sense to me and seemed the most effecient. The range for the for loop must be up to one more than half the number in order for i^2 to be equal to n and return true. This is the fastest runtime in the nanoseconds because the criteria for a perfect square is strict."
      ]
    },
    {
      "cell_type": "code",
      "metadata": {
        "colab": {
          "base_uri": "https://localhost:8080/"
        },
        "id": "BVRbQ5rvQoYQ",
        "outputId": "33f998c4-45fb-4cbe-8086-da63800d3581"
      },
      "source": [
        "%timeit is_square"
      ],
      "execution_count": null,
      "outputs": [
        {
          "output_type": "stream",
          "text": [
            "100000000 loops, best of 3: 19.6 ns per loop\n"
          ],
          "name": "stdout"
        }
      ]
    },
    {
      "cell_type": "markdown",
      "metadata": {
        "id": "J_Xx10hBo1Nm"
      },
      "source": [
        "## List manipulation"
      ]
    },
    {
      "cell_type": "markdown",
      "metadata": {
        "id": "7Wd7YSnxo1Nm"
      },
      "source": [
        "We have already (briefly) encountered the `list` type in Python.  Recall that the `range` command produces a range, which can be used to produce a list.  For example, `list(range(10))` produces the list `[0,1,2,3,4,5,6,7,8,9]`.  You can also create your own list by a writing out its terms, e.g. `L = [4,7,10]`.\n",
        "\n",
        "Here we work with lists, and a very Pythonic approach to list manipulation.  With practice, this can be a powerful tool to write fast algorithms, exploiting the hard-wired capability of your computer to shift and slice large chunks of data.  Our eventual application will be to implement the Sieve of Eratosthenes, producing a long list of prime numbers (without using any `is_prime` test along the way)."
      ]
    },
    {
      "cell_type": "markdown",
      "metadata": {
        "id": "60AyLZgto1Nm"
      },
      "source": [
        "We begin by creating a list to play with.  We mix numbers and strings... just for fun."
      ]
    },
    {
      "cell_type": "code",
      "metadata": {
        "id": "LqlPEQ6jo1Nm"
      },
      "source": [
        "L = [0,'one',2,'three',4,'five',6,'seven',8,'nine',10]"
      ],
      "execution_count": null,
      "outputs": []
    },
    {
      "cell_type": "markdown",
      "metadata": {
        "id": "k3Isc4hVo1Nm"
      },
      "source": [
        "### List terms and indices\n",
        "\n",
        "Notice that the entries in a list can be of any type.  The above list `L` has some integer entries and some string entries.  Lists are **ordered** in Python, **starting at zero**.  One can access the $n^{th}$ entry in a list with a command like `L[n]`.  "
      ]
    },
    {
      "cell_type": "code",
      "metadata": {
        "id": "P6pVVcg7o1Nn",
        "colab": {
          "base_uri": "https://localhost:8080/"
        },
        "outputId": "a63352b6-be88-4b37-82ac-7357dfc45d2d"
      },
      "source": [
        "L[3]"
      ],
      "execution_count": null,
      "outputs": [
        {
          "output_type": "execute_result",
          "data": {
            "application/vnd.google.colaboratory.intrinsic+json": {
              "type": "string"
            },
            "text/plain": [
              "'three'"
            ]
          },
          "metadata": {
            "tags": []
          },
          "execution_count": 58
        }
      ]
    },
    {
      "cell_type": "code",
      "metadata": {
        "id": "jX8qwH8Co1Nn",
        "colab": {
          "base_uri": "https://localhost:8080/"
        },
        "outputId": "d09078e6-89af-4f08-b6be-a14e6ed8bc90"
      },
      "source": [
        "print(L[3])  # Note that Python has slightly different approaches to the print-function, and the output above."
      ],
      "execution_count": null,
      "outputs": [
        {
          "output_type": "stream",
          "text": [
            "three\n"
          ],
          "name": "stdout"
        }
      ]
    },
    {
      "cell_type": "code",
      "metadata": {
        "id": "SrEwDHyRo1Nn",
        "colab": {
          "base_uri": "https://localhost:8080/"
        },
        "outputId": "30563406-1027-4c1a-e4d3-987d2d80fc61"
      },
      "source": [
        "print(L[4])  # We will use the print function, because it makes our printing intentions clear."
      ],
      "execution_count": null,
      "outputs": [
        {
          "output_type": "stream",
          "text": [
            "4\n"
          ],
          "name": "stdout"
        }
      ]
    },
    {
      "cell_type": "code",
      "metadata": {
        "id": "Z-ZCNLx4o1Nn",
        "colab": {
          "base_uri": "https://localhost:8080/"
        },
        "outputId": "78977066-0c4c-41fc-e6cb-4ffac175bdf0"
      },
      "source": [
        "print(L[0])"
      ],
      "execution_count": null,
      "outputs": [
        {
          "output_type": "stream",
          "text": [
            "0\n"
          ],
          "name": "stdout"
        }
      ]
    },
    {
      "cell_type": "markdown",
      "metadata": {
        "id": "9Rd1gPF9o1Nn"
      },
      "source": [
        "The location of an entry is called its **index**.  So *at* the index 3, the list `L` stores the entry `three`.  Note that the same entry can occur in many places in a list.  E.g. `[7,7,7]` is a list with 7 at the zeroth, first, and second index."
      ]
    },
    {
      "cell_type": "code",
      "metadata": {
        "id": "SHWaHBmAo1Nn",
        "colab": {
          "base_uri": "https://localhost:8080/"
        },
        "outputId": "72d5477b-2e97-4be9-8f5a-3a5a0a1c1ae9"
      },
      "source": [
        "print(L[-1])\n",
        "print(L[-2])"
      ],
      "execution_count": null,
      "outputs": [
        {
          "output_type": "stream",
          "text": [
            "10\n",
            "nine\n"
          ],
          "name": "stdout"
        }
      ]
    },
    {
      "cell_type": "markdown",
      "metadata": {
        "id": "N8U8KO9Do1Nn"
      },
      "source": [
        "The last bit of code demonstrates a cool Python trick.  The \"-1st\" entry in a list refers to the last entry. The \"-2nd entry\" refers to the second-to-last entry, and so on.  It gives a convenient way to access both sides of the list, even if you don't know how long it is.\n",
        "\n",
        "Of course, you can use Python to find out how long a list is."
      ]
    },
    {
      "cell_type": "code",
      "metadata": {
        "id": "U69qteuto1Nn",
        "colab": {
          "base_uri": "https://localhost:8080/"
        },
        "outputId": "cf9cfcfc-7c49-4553-b53d-69acc64b977f"
      },
      "source": [
        "len(L)"
      ],
      "execution_count": null,
      "outputs": [
        {
          "output_type": "execute_result",
          "data": {
            "text/plain": [
              "11"
            ]
          },
          "metadata": {
            "tags": []
          },
          "execution_count": 63
        }
      ]
    },
    {
      "cell_type": "markdown",
      "metadata": {
        "id": "pVI66GEIo1No"
      },
      "source": [
        "You can also use Python to find the sum of a list of numbers."
      ]
    },
    {
      "cell_type": "code",
      "metadata": {
        "id": "XmBojrfto1No",
        "colab": {
          "base_uri": "https://localhost:8080/"
        },
        "outputId": "8341912c-3d8d-4e39-9e61-a1625e848b99"
      },
      "source": [
        "sum([1,2,3,4,5])"
      ],
      "execution_count": null,
      "outputs": [
        {
          "output_type": "execute_result",
          "data": {
            "text/plain": [
              "15"
            ]
          },
          "metadata": {
            "tags": []
          },
          "execution_count": 64
        }
      ]
    },
    {
      "cell_type": "code",
      "metadata": {
        "id": "7vO8uSwho1No",
        "colab": {
          "base_uri": "https://localhost:8080/"
        },
        "outputId": "ae65490c-211e-4eb1-e8ce-f200c1481847"
      },
      "source": [
        "sum(range(100))  # Be careful.  This is the sum of which numbers?  # The sum function can take lists or ranges."
      ],
      "execution_count": null,
      "outputs": [
        {
          "output_type": "execute_result",
          "data": {
            "text/plain": [
              "4950"
            ]
          },
          "metadata": {
            "tags": []
          },
          "execution_count": 65
        }
      ]
    },
    {
      "cell_type": "markdown",
      "metadata": {
        "id": "Gk4qkCSEo1No"
      },
      "source": [
        "### List slicing\n",
        "\n",
        "**Slicing** lists allows us to create new lists (or ranges) from old lists (or ranges), by chopping off one end or the other, or even slicing out entries at a fixed interval.  The simplest syntax has the form `L[a:b]` where `a` denotes the index of the starting entry and index of the final entry is one less than `b`.  It is best to try a few examples to get a feel for it.\n",
        "\n",
        "Slicing a list with a command like `L[a:b]` doesn't actually *change* the original list `L`.  It just extracts some terms from the list and outputs those terms.  Soon enough, we will change the list `L` using a list assignment."
      ]
    },
    {
      "cell_type": "code",
      "metadata": {
        "id": "8QNDpqJ9o1No",
        "colab": {
          "base_uri": "https://localhost:8080/"
        },
        "outputId": "176c2b2f-aee5-4193-c38d-ee5393e40c00"
      },
      "source": [
        "L[0:5]"
      ],
      "execution_count": null,
      "outputs": [
        {
          "output_type": "execute_result",
          "data": {
            "text/plain": [
              "[0, 'one', 2, 'three', 4]"
            ]
          },
          "metadata": {
            "tags": []
          },
          "execution_count": 66
        }
      ]
    },
    {
      "cell_type": "code",
      "metadata": {
        "id": "gzEnfHqvo1No",
        "colab": {
          "base_uri": "https://localhost:8080/"
        },
        "outputId": "fce7337f-333c-4047-d546-06acaeb8e4b8"
      },
      "source": [
        "L[5:11]  # Notice that L[0:5] and L[5:11] together recover the whole list."
      ],
      "execution_count": null,
      "outputs": [
        {
          "output_type": "execute_result",
          "data": {
            "text/plain": [
              "['five', 6, 'seven', 8, 'nine', 10]"
            ]
          },
          "metadata": {
            "tags": []
          },
          "execution_count": 67
        }
      ]
    },
    {
      "cell_type": "code",
      "metadata": {
        "id": "MOzb4reTo1No",
        "colab": {
          "base_uri": "https://localhost:8080/"
        },
        "outputId": "14213677-7791-46b0-aa29-c0ca49e6a261"
      },
      "source": [
        "L[3:7]"
      ],
      "execution_count": null,
      "outputs": [
        {
          "output_type": "execute_result",
          "data": {
            "text/plain": [
              "['three', 4, 'five', 6]"
            ]
          },
          "metadata": {
            "tags": []
          },
          "execution_count": 68
        }
      ]
    },
    {
      "cell_type": "markdown",
      "metadata": {
        "id": "Z1VPqRtoo1No"
      },
      "source": [
        "This continues the strange (for beginners) Python convention of starting at the first number and ending just before the last number.  Compare to `range(3,7)`, for example.  "
      ]
    },
    {
      "cell_type": "markdown",
      "metadata": {
        "id": "MrnvG511o1No"
      },
      "source": [
        "The command `L[0:5]` can be replaced by `L[:5]` to abbreviate.  The empty opening index tells Python to start at the beginning.  Similarly, the command `L[5:11]` can be replaced by `L[5:]`.  The empty closing index tells Python to end the slice and the end.  This is helpful if one doesn't know where the list ends."
      ]
    },
    {
      "cell_type": "code",
      "metadata": {
        "id": "-jgLcoWWo1Nq",
        "colab": {
          "base_uri": "https://localhost:8080/"
        },
        "outputId": "837bcb2f-e00d-4e93-ef1e-2252e57d5f03"
      },
      "source": [
        "L[:5]"
      ],
      "execution_count": null,
      "outputs": [
        {
          "output_type": "execute_result",
          "data": {
            "text/plain": [
              "[0, 'one', 2, 'three', 4]"
            ]
          },
          "metadata": {
            "tags": []
          },
          "execution_count": 69
        }
      ]
    },
    {
      "cell_type": "code",
      "metadata": {
        "id": "RC8VS_66o1Nq",
        "colab": {
          "base_uri": "https://localhost:8080/"
        },
        "outputId": "c6fff591-12b9-4ae3-eb91-58a8434a712b"
      },
      "source": [
        "L[3:]"
      ],
      "execution_count": null,
      "outputs": [
        {
          "output_type": "execute_result",
          "data": {
            "text/plain": [
              "['three', 4, 'five', 6, 'seven', 8, 'nine', 10]"
            ]
          },
          "metadata": {
            "tags": []
          },
          "execution_count": 70
        }
      ]
    },
    {
      "cell_type": "markdown",
      "metadata": {
        "id": "NNnM3hfOo1Nq"
      },
      "source": [
        "Just like the `range` command, list slicing can take an optional third argument to give a step size.  To understand this, try the command below."
      ]
    },
    {
      "cell_type": "code",
      "metadata": {
        "id": "zoxAvxDdo1Nq",
        "colab": {
          "base_uri": "https://localhost:8080/"
        },
        "outputId": "a3afaa4c-fc36-4cb9-e7f8-3c25b8e56f76"
      },
      "source": [
        "L[2:10]"
      ],
      "execution_count": null,
      "outputs": [
        {
          "output_type": "execute_result",
          "data": {
            "text/plain": [
              "[2, 'three', 4, 'five', 6, 'seven', 8, 'nine']"
            ]
          },
          "metadata": {
            "tags": []
          },
          "execution_count": 71
        }
      ]
    },
    {
      "cell_type": "code",
      "metadata": {
        "id": "81Afdz7do1Nq",
        "colab": {
          "base_uri": "https://localhost:8080/"
        },
        "outputId": "48b13fe5-1126-47ee-ff13-1bcc7ce76f4b"
      },
      "source": [
        "L[2:10:3]"
      ],
      "execution_count": null,
      "outputs": [
        {
          "output_type": "execute_result",
          "data": {
            "text/plain": [
              "[2, 'five', 8]"
            ]
          },
          "metadata": {
            "tags": []
          },
          "execution_count": 72
        }
      ]
    },
    {
      "cell_type": "markdown",
      "metadata": {
        "id": "Ge3CcbYbo1Nq"
      },
      "source": [
        "If, in this three-argument syntax, the first or second argument is absent, then the slice starts at the beginning of the list or ends at the end of the list accordingly."
      ]
    },
    {
      "cell_type": "code",
      "metadata": {
        "id": "qpComE9ao1Nq",
        "colab": {
          "base_uri": "https://localhost:8080/"
        },
        "outputId": "8f2972e5-9dc3-425d-9b2a-7cc91ee382e2"
      },
      "source": [
        "L  # Just a reminder.  We haven't modified the original list!"
      ],
      "execution_count": null,
      "outputs": [
        {
          "output_type": "execute_result",
          "data": {
            "text/plain": [
              "[0, 'one', 2, 'three', 4, 'five', 6, 'seven', 8, 'nine', 10]"
            ]
          },
          "metadata": {
            "tags": []
          },
          "execution_count": 73
        }
      ]
    },
    {
      "cell_type": "code",
      "metadata": {
        "id": "4tDS36jCo1Nr",
        "colab": {
          "base_uri": "https://localhost:8080/"
        },
        "outputId": "319b4bfb-4c3f-4f67-f301-940b4397e5d7"
      },
      "source": [
        "L[:9:3]  # Start at zero, go up to (but not including) 9, by steps of 3."
      ],
      "execution_count": null,
      "outputs": [
        {
          "output_type": "execute_result",
          "data": {
            "text/plain": [
              "[0, 'three', 6]"
            ]
          },
          "metadata": {
            "tags": []
          },
          "execution_count": 74
        }
      ]
    },
    {
      "cell_type": "code",
      "metadata": {
        "id": "MFr4nObSo1Nr",
        "colab": {
          "base_uri": "https://localhost:8080/"
        },
        "outputId": "977e3c1c-cc77-4e95-9796-6bfa59b7aff4"
      },
      "source": [
        "L[2: :3] # Start at two, go up through the end of the list, by steps of 3."
      ],
      "execution_count": null,
      "outputs": [
        {
          "output_type": "execute_result",
          "data": {
            "text/plain": [
              "[2, 'five', 8]"
            ]
          },
          "metadata": {
            "tags": []
          },
          "execution_count": 75
        }
      ]
    },
    {
      "cell_type": "code",
      "metadata": {
        "id": "X-EpKfF4o1Nr",
        "colab": {
          "base_uri": "https://localhost:8080/"
        },
        "outputId": "0c1766e7-2755-4b6c-f257-c75698c34556"
      },
      "source": [
        "L[::3]  # Start at zero, go up through the end of the list, by steps of 3."
      ],
      "execution_count": null,
      "outputs": [
        {
          "output_type": "execute_result",
          "data": {
            "text/plain": [
              "[0, 'three', 6, 'nine']"
            ]
          },
          "metadata": {
            "tags": []
          },
          "execution_count": 76
        }
      ]
    },
    {
      "cell_type": "markdown",
      "metadata": {
        "id": "2dTiwVYho1Nr"
      },
      "source": [
        "### Changing list slices"
      ]
    },
    {
      "cell_type": "markdown",
      "metadata": {
        "id": "4y5zku1Mo1Nr"
      },
      "source": [
        "Not only can we extract and study terms or slices of a list, we can change them by assignment.  The simplest case would be changing a single term of a list."
      ]
    },
    {
      "cell_type": "code",
      "metadata": {
        "id": "OfPbYfsPo1Nr",
        "colab": {
          "base_uri": "https://localhost:8080/"
        },
        "outputId": "4a3001f5-7025-4496-9584-d25dd73976de"
      },
      "source": [
        "print(L) # Start with the list L."
      ],
      "execution_count": null,
      "outputs": [
        {
          "output_type": "stream",
          "text": [
            "[0, 'one', 2, 'three', 4, 'five', 6, 'seven', 8, 'nine', 10]\n"
          ],
          "name": "stdout"
        }
      ]
    },
    {
      "cell_type": "code",
      "metadata": {
        "id": "UIvNYPDDo1Nr"
      },
      "source": [
        "L[5] = 'Bacon!'"
      ],
      "execution_count": null,
      "outputs": []
    },
    {
      "cell_type": "code",
      "metadata": {
        "id": "RLd45i_No1Nr",
        "colab": {
          "base_uri": "https://localhost:8080/"
        },
        "outputId": "3291e3be-ee9b-42f7-b80e-59fac90847d6"
      },
      "source": [
        "print(L)  # What do you think L is now?"
      ],
      "execution_count": null,
      "outputs": [
        {
          "output_type": "stream",
          "text": [
            "[0, 'one', 2, 'three', 4, 'Bacon!', 6, 'seven', 8, 'nine', 10]\n"
          ],
          "name": "stdout"
        }
      ]
    },
    {
      "cell_type": "code",
      "metadata": {
        "id": "B6G0Uga9o1Nr",
        "colab": {
          "base_uri": "https://localhost:8080/"
        },
        "outputId": "701b9bd5-e9e7-4f0d-e9fc-abfb7edd6fce"
      },
      "source": [
        "print(L[2::3]) # What do you think this will do?"
      ],
      "execution_count": null,
      "outputs": [
        {
          "output_type": "stream",
          "text": [
            "[2, 'Bacon!', 8]\n"
          ],
          "name": "stdout"
        }
      ]
    },
    {
      "cell_type": "markdown",
      "metadata": {
        "id": "uGennJ2qo1Nr"
      },
      "source": [
        "We can change an entire slice of a list with a single assignment.  Let's change the first two terms of `L` in one line."
      ]
    },
    {
      "cell_type": "code",
      "metadata": {
        "id": "y2qRmtGpo1Nr"
      },
      "source": [
        "L[:2] = ['Pancakes', 'Ham']  # What was L[:2] before?"
      ],
      "execution_count": null,
      "outputs": []
    },
    {
      "cell_type": "code",
      "metadata": {
        "id": "ovOM7CW5o1Ns",
        "colab": {
          "base_uri": "https://localhost:8080/"
        },
        "outputId": "1373cc28-16b2-4e4a-dcae-3da1aa54d79b"
      },
      "source": [
        "print(L) # Oh... what have we done!"
      ],
      "execution_count": null,
      "outputs": [
        {
          "output_type": "stream",
          "text": [
            "['Pancakes', 'Ham', 2, 'three', 4, 'Bacon!', 6, 'seven', 8, 'nine', 10]\n"
          ],
          "name": "stdout"
        }
      ]
    },
    {
      "cell_type": "code",
      "metadata": {
        "id": "xaVOdSGdo1Ns",
        "colab": {
          "base_uri": "https://localhost:8080/"
        },
        "outputId": "bca9b995-8bc3-4925-d5ce-dbbac8a69fd8"
      },
      "source": [
        "L[0]"
      ],
      "execution_count": null,
      "outputs": [
        {
          "output_type": "execute_result",
          "data": {
            "application/vnd.google.colaboratory.intrinsic+json": {
              "type": "string"
            },
            "text/plain": [
              "'Pancakes'"
            ]
          },
          "metadata": {
            "tags": []
          },
          "execution_count": 83
        }
      ]
    },
    {
      "cell_type": "code",
      "metadata": {
        "id": "7VzDxYkvo1Ns",
        "colab": {
          "base_uri": "https://localhost:8080/"
        },
        "outputId": "7bd5dec1-54a8-49b5-c7b7-c2fefc7af3ee"
      },
      "source": [
        "L[1]"
      ],
      "execution_count": null,
      "outputs": [
        {
          "output_type": "execute_result",
          "data": {
            "application/vnd.google.colaboratory.intrinsic+json": {
              "type": "string"
            },
            "text/plain": [
              "'Ham'"
            ]
          },
          "metadata": {
            "tags": []
          },
          "execution_count": 84
        }
      ]
    },
    {
      "cell_type": "code",
      "metadata": {
        "id": "XEExh5vko1Ns",
        "colab": {
          "base_uri": "https://localhost:8080/"
        },
        "outputId": "f3b23b1f-11d8-4832-ba75-88884190bd42"
      },
      "source": [
        "L[2]"
      ],
      "execution_count": null,
      "outputs": [
        {
          "output_type": "execute_result",
          "data": {
            "text/plain": [
              "2"
            ]
          },
          "metadata": {
            "tags": []
          },
          "execution_count": 85
        }
      ]
    },
    {
      "cell_type": "markdown",
      "metadata": {
        "id": "G5jugoLbo1Ns"
      },
      "source": [
        "We can change a slice of a list with a single assignment, even when that slice does not consist of consecutive terms.  Try to predict what the following commands will do."
      ]
    },
    {
      "cell_type": "code",
      "metadata": {
        "id": "U9HQud-4o1Ns",
        "colab": {
          "base_uri": "https://localhost:8080/"
        },
        "outputId": "8e43021a-0986-4572-8065-aa210cfdc46d"
      },
      "source": [
        "print(L)  # Let's see what the list looks like before."
      ],
      "execution_count": null,
      "outputs": [
        {
          "output_type": "stream",
          "text": [
            "['Pancakes', 'Ham', 2, 'three', 4, 'Bacon!', 6, 'seven', 8, 'nine', 10]\n"
          ],
          "name": "stdout"
        }
      ]
    },
    {
      "cell_type": "code",
      "metadata": {
        "id": "WaeNsMU8o1Ns"
      },
      "source": [
        "L[::2] = ['A','B','C','D','E','F']  # What was L[::2] before this assignment? "
      ],
      "execution_count": null,
      "outputs": []
    },
    {
      "cell_type": "code",
      "metadata": {
        "id": "e4DFQ2ZBo1Ns",
        "colab": {
          "base_uri": "https://localhost:8080/"
        },
        "outputId": "06b1a040-c7eb-4a7f-bd01-3a9572eb0aec"
      },
      "source": [
        "print(L)  # What do you predict?"
      ],
      "execution_count": null,
      "outputs": [
        {
          "output_type": "stream",
          "text": [
            "['A', 'Ham', 'B', 'three', 'C', 'Bacon!', 'D', 'seven', 'E', 'nine', 'F']\n"
          ],
          "name": "stdout"
        }
      ]
    },
    {
      "cell_type": "markdown",
      "metadata": {
        "id": "g7PBhl-1o1Ns"
      },
      "source": [
        "## List methods"
      ]
    },
    {
      "cell_type": "markdown",
      "metadata": {
        "id": "E4_oZBZYo1Ns"
      },
      "source": [
        "A method is a function that is attached to an object.  We have already used one method:  the `format` method that is attached to all strings.  You might have seen the `replace` method for strings too.  Note that single-quotes `'Hello'` or double-quotes `\"Hello\"` can be used for strings."
      ]
    },
    {
      "cell_type": "code",
      "metadata": {
        "id": "A9ZJsXNFo1Ns",
        "colab": {
          "base_uri": "https://localhost:8080/",
          "height": 35
        },
        "outputId": "9a0b1ac1-090d-48fb-e583-4438b3122895"
      },
      "source": [
        "\"Hello {}!\".format('programming student')"
      ],
      "execution_count": null,
      "outputs": [
        {
          "output_type": "execute_result",
          "data": {
            "application/vnd.google.colaboratory.intrinsic+json": {
              "type": "string"
            },
            "text/plain": [
              "'Hello programming student!'"
            ]
          },
          "metadata": {
            "tags": []
          },
          "execution_count": 89
        }
      ]
    },
    {
      "cell_type": "code",
      "metadata": {
        "id": "rWpWVH7eo1Nt",
        "colab": {
          "base_uri": "https://localhost:8080/",
          "height": 35
        },
        "outputId": "c5725247-5026-4e75-f28a-10d10b4427d8"
      },
      "source": [
        "\"Programming is fun!\".replace('fun','lit')"
      ],
      "execution_count": null,
      "outputs": [
        {
          "output_type": "execute_result",
          "data": {
            "application/vnd.google.colaboratory.intrinsic+json": {
              "type": "string"
            },
            "text/plain": [
              "'Programming is lit!'"
            ]
          },
          "metadata": {
            "tags": []
          },
          "execution_count": 90
        }
      ]
    },
    {
      "cell_type": "markdown",
      "metadata": {
        "id": "o_HBkyp_o1Nt"
      },
      "source": [
        "List methods are functions attached to lists.  Some useful methods include `append` and `sort`.  A fuller listing can be found at [the official documentation](https://docs.python.org/3/tutorial/datastructures.html)."
      ]
    },
    {
      "cell_type": "code",
      "metadata": {
        "id": "_KkgeG-yo1Nt",
        "colab": {
          "base_uri": "https://localhost:8080/"
        },
        "outputId": "b8dbc058-2ce2-4551-ca9f-ce98dbc4f655"
      },
      "source": [
        "L = [1,2,3]\n",
        "L.append(4)\n",
        "print(L)"
      ],
      "execution_count": null,
      "outputs": [
        {
          "output_type": "stream",
          "text": [
            "[1, 2, 3, 4]\n"
          ],
          "name": "stdout"
        }
      ]
    },
    {
      "cell_type": "markdown",
      "metadata": {
        "id": "VjkSU8Eyo1Nt"
      },
      "source": [
        "The `append` method can be used to add new items to the end of a list.  But be careful if you want to add multiple items!"
      ]
    },
    {
      "cell_type": "code",
      "metadata": {
        "id": "aS1Nuu84o1Nt",
        "colab": {
          "base_uri": "https://localhost:8080/"
        },
        "outputId": "d184d79c-2b84-4ec8-fb44-eebaeba51a0a"
      },
      "source": [
        "L.append([5,6])\n",
        "print(L)"
      ],
      "execution_count": null,
      "outputs": [
        {
          "output_type": "stream",
          "text": [
            "[1, 2, 3, 4, [5, 6]]\n"
          ],
          "name": "stdout"
        }
      ]
    },
    {
      "cell_type": "markdown",
      "metadata": {
        "id": "THb1IcA6o1Nt"
      },
      "source": [
        "Behind the scenes, methods are functions which have a special input parameter called `self`.  So when you use a command like `L.append(4)`, you are effectively running `append(L, 4)`.  The `self` parameter is the object the method is attached to.\n",
        "\n",
        "Like all functions, methods have outputs too.  But what can be confusing is that methods can *modify* `self` and can sometimes *return* `None`.  "
      ]
    },
    {
      "cell_type": "code",
      "metadata": {
        "id": "TdOwNbHvo1Nt",
        "colab": {
          "base_uri": "https://localhost:8080/"
        },
        "outputId": "cf750f97-86e5-465b-ea80-67f1cfcdb6e7"
      },
      "source": [
        "print([1,2,3].append(4))\n",
        "print(\"123\".replace(\"3\",\"4\"))"
      ],
      "execution_count": null,
      "outputs": [
        {
          "output_type": "stream",
          "text": [
            "None\n",
            "124\n"
          ],
          "name": "stdout"
        }
      ]
    },
    {
      "cell_type": "markdown",
      "metadata": {
        "id": "CNutNo0ro1Nt"
      },
      "source": [
        "This is very confusing at first!  The list `append` method *does* change `self` by appending something to `self`.  But as a function, it returns `None`.  \n",
        "\n",
        "On the other hand, the string `replace` method *does not* change `self` and instead *returns* the modified string.\n",
        "\n",
        "This will make more sense after we study *mutable* and *immutable* types.  Lists are mutable (and thus are often changed by their methods).  Strings are immutable, and so changes are effected by producing new strings.  Another example of a string method is `sort()`.  The only parameter of `sort` is `self`, and so nothing needs to go between the paraentheses."
      ]
    },
    {
      "cell_type": "code",
      "metadata": {
        "id": "iOJkQ3cIo1Nt",
        "colab": {
          "base_uri": "https://localhost:8080/"
        },
        "outputId": "a7874215-319b-4b9a-9a00-665b9ff08589"
      },
      "source": [
        "L = [4,2,1]  # Make a list.\n",
        "L.sort()  # Sort the list.  This *changes* L and returns None.\n",
        "print(L)  # Let's see what L is now."
      ],
      "execution_count": null,
      "outputs": [
        {
          "output_type": "stream",
          "text": [
            "[1, 2, 4]\n"
          ],
          "name": "stdout"
        }
      ]
    },
    {
      "cell_type": "code",
      "metadata": {
        "id": "ZDaPzUUjo1Nt",
        "colab": {
          "base_uri": "https://localhost:8080/"
        },
        "outputId": "d225bc16-6bcb-4136-cb9d-4abac098327f"
      },
      "source": [
        "L = ['Ukelele', 'Apple', 'Dog', 'Cat' ]\n",
        "L.sort()\n",
        "print(L)"
      ],
      "execution_count": null,
      "outputs": [
        {
          "output_type": "stream",
          "text": [
            "['Apple', 'Cat', 'Dog', 'Ukelele']\n"
          ],
          "name": "stdout"
        }
      ]
    },
    {
      "cell_type": "markdown",
      "metadata": {
        "id": "2ibPAiCCo1Nu"
      },
      "source": [
        "Sorting numbers is possible, because the Python operator `<` is defined for numbers.  Sorting strings is possible, because the Python operator `<` is interpreted alphabetically among strings.  If you mix types, Python might not know how to behave... you'll get a TypeError."
      ]
    },
    {
      "cell_type": "code",
      "metadata": {
        "id": "EmIGZqSQo1Nu",
        "colab": {
          "base_uri": "https://localhost:8080/",
          "height": 198
        },
        "outputId": "eb4c27f7-3664-480f-eae2-efa4b4980ea9"
      },
      "source": [
        "L = [1,'Apple', 3.14]\n",
        "L.sort()\n",
        "print(L)"
      ],
      "execution_count": null,
      "outputs": [
        {
          "output_type": "error",
          "ename": "TypeError",
          "evalue": "ignored",
          "traceback": [
            "\u001b[0;31m---------------------------------------------------------------------------\u001b[0m",
            "\u001b[0;31mTypeError\u001b[0m                                 Traceback (most recent call last)",
            "\u001b[0;32m<ipython-input-96-e3d2589f72dc>\u001b[0m in \u001b[0;36m<module>\u001b[0;34m()\u001b[0m\n\u001b[1;32m      1\u001b[0m \u001b[0mL\u001b[0m \u001b[0;34m=\u001b[0m \u001b[0;34m[\u001b[0m\u001b[0;36m1\u001b[0m\u001b[0;34m,\u001b[0m\u001b[0;34m'Apple'\u001b[0m\u001b[0;34m,\u001b[0m \u001b[0;36m3.14\u001b[0m\u001b[0;34m]\u001b[0m\u001b[0;34m\u001b[0m\u001b[0;34m\u001b[0m\u001b[0m\n\u001b[0;32m----> 2\u001b[0;31m \u001b[0mL\u001b[0m\u001b[0;34m.\u001b[0m\u001b[0msort\u001b[0m\u001b[0;34m(\u001b[0m\u001b[0;34m)\u001b[0m\u001b[0;34m\u001b[0m\u001b[0;34m\u001b[0m\u001b[0m\n\u001b[0m\u001b[1;32m      3\u001b[0m \u001b[0mprint\u001b[0m\u001b[0;34m(\u001b[0m\u001b[0mL\u001b[0m\u001b[0;34m)\u001b[0m\u001b[0;34m\u001b[0m\u001b[0;34m\u001b[0m\u001b[0m\n",
            "\u001b[0;31mTypeError\u001b[0m: '<' not supported between instances of 'str' and 'int'"
          ]
        }
      ]
    },
    {
      "cell_type": "markdown",
      "metadata": {
        "id": "RMN4XjXHo1Nu"
      },
      "source": [
        "### Exercises\n",
        "\n",
        "1.  Create a list L with L = [1,2,3,...,100] (all the numbers from 1 to 100).  What is L[50]?\n",
        "\n",
        "2.  Take the same list L, and extract a slice of the form [5,10,15,...,95] with a command of the form L[a:b:c].\n",
        "\n",
        "3.  Take the same list L, and change all the even numbers to zeros, so that L looks like [1,0,3,0,5,0,...,99,0].  Hint:  You might wish to use the list [0]*50.\n",
        "\n",
        "4.  Try the command `L[-1::-1]` on a list.  What does it do?  Can you guess before executing it?  Can you understand why?  In fact, strings are indexed like lists.  Try setting `L = 'Hello'` and the previous command.\n",
        "\n",
        "5.  Create the list [1,100,3,98,5,96,...,99,0], where the odd terms are in order and the even terms are in reverse order.  There are multiple methods!\n",
        "\n",
        "6.  Use the append method with a loop to create a list of perfect squares, [0,1,4,9,16,25,...,10000].\n",
        "\n",
        "7.  Create a list of 52 \"cards\" to resemble a standard card deck.  The suits can be denoted C,S,D,H for clubs, spades, diamonds, and hearts.  The numbers can be denoted 1-13 (with Ace = 1, Jack = 11, Queen = 12, King = 13).  So \"9H\" would be the 9 of hearts, and 12S the queen of spades.  Your list L should contain every card.  \n",
        "\n",
        "8.  Challenge:  write a function which performs a \"perfect riffle shuffle\" on a list of cards.  This shuffle should have the effect of dividing the deck into two equal pieces, and then precisely interlacing the two pieces to form a new list.  E.g., an input list of `[1,2,3,4,5,6]` should be broken into `[1,2,3]` and `[4,5,6]` and then interlaced as `[1,4,2,5,3,6]`."
      ]
    },
    {
      "cell_type": "markdown",
      "metadata": {
        "id": "R8ihF72RqYAx"
      },
      "source": [
        "####Question 1"
      ]
    },
    {
      "cell_type": "code",
      "metadata": {
        "id": "zeKjo8JPUjjY"
      },
      "source": [
        "L = list(range(1,101))"
      ],
      "execution_count": null,
      "outputs": []
    },
    {
      "cell_type": "code",
      "metadata": {
        "colab": {
          "base_uri": "https://localhost:8080/"
        },
        "id": "U0TnbtmKqOOM",
        "outputId": "5a65e8bd-6e38-4d0c-b873-6da018fa8b48"
      },
      "source": [
        "L[50]"
      ],
      "execution_count": null,
      "outputs": [
        {
          "output_type": "execute_result",
          "data": {
            "text/plain": [
              "51"
            ]
          },
          "metadata": {
            "tags": []
          },
          "execution_count": 103
        }
      ]
    },
    {
      "cell_type": "markdown",
      "metadata": {
        "id": "LjAPaRcKrj-4"
      },
      "source": [
        "####Question *2*"
      ]
    },
    {
      "cell_type": "code",
      "metadata": {
        "colab": {
          "base_uri": "https://localhost:8080/"
        },
        "id": "7a9yKHIDqXO4",
        "outputId": "778f8fb0-37c8-416c-ffd9-8af928578c05"
      },
      "source": [
        "L[4:95:5]"
      ],
      "execution_count": null,
      "outputs": [
        {
          "output_type": "execute_result",
          "data": {
            "text/plain": [
              "[5, 10, 15, 20, 25, 30, 35, 40, 45, 50, 55, 60, 65, 70, 75, 80, 85, 90, 95]"
            ]
          },
          "metadata": {
            "tags": []
          },
          "execution_count": 109
        }
      ]
    },
    {
      "cell_type": "markdown",
      "metadata": {
        "id": "TBQTFLT5sK0Y"
      },
      "source": [
        "####Question 3"
      ]
    },
    {
      "cell_type": "code",
      "metadata": {
        "colab": {
          "base_uri": "https://localhost:8080/"
        },
        "id": "Rw8I4XeYsMNa",
        "outputId": "a677ab40-ee8f-40b7-e268-6a7bcf61f265"
      },
      "source": [
        "print([i if i % 2 != 0 else 0 for i in L])"
      ],
      "execution_count": null,
      "outputs": [
        {
          "output_type": "stream",
          "text": [
            "[1, 0, 3, 0, 5, 0, 7, 0, 9, 0, 11, 0, 13, 0, 15, 0, 17, 0, 19, 0, 21, 0, 23, 0, 25, 0, 27, 0, 29, 0, 31, 0, 33, 0, 35, 0, 37, 0, 39, 0, 41, 0, 43, 0, 45, 0, 47, 0, 49, 0, 51, 0, 53, 0, 55, 0, 57, 0, 59, 0, 61, 0, 63, 0, 65, 0, 67, 0, 69, 0, 71, 0, 73, 0, 75, 0, 77, 0, 79, 0, 81, 0, 83, 0, 85, 0, 87, 0, 89, 0, 91, 0, 93, 0, 95, 0, 97, 0, 99, 0]\n"
          ],
          "name": "stdout"
        }
      ]
    },
    {
      "cell_type": "markdown",
      "metadata": {
        "id": "VEFtkpknsaP7"
      },
      "source": [
        "####Question 4"
      ]
    },
    {
      "cell_type": "markdown",
      "metadata": {
        "id": "HwaE3MtjseRV"
      },
      "source": [
        "I intially guessed the list would flip the list, which it does because it shifts the starting value before the 0 index and then decrements in -1 index."
      ]
    },
    {
      "cell_type": "code",
      "metadata": {
        "id": "C4E3iTzMUl3T"
      },
      "source": [
        "L = [1, 2, 3]"
      ],
      "execution_count": null,
      "outputs": []
    },
    {
      "cell_type": "code",
      "metadata": {
        "colab": {
          "base_uri": "https://localhost:8080/"
        },
        "id": "HLnZbdfjsc6X",
        "outputId": "0b401cae-4304-4340-9986-e9c6b339e5f2"
      },
      "source": [
        "L[-1::-1]"
      ],
      "execution_count": null,
      "outputs": [
        {
          "output_type": "execute_result",
          "data": {
            "text/plain": [
              "[3, 2, 1]"
            ]
          },
          "metadata": {
            "tags": []
          },
          "execution_count": 106
        }
      ]
    },
    {
      "cell_type": "code",
      "metadata": {
        "colab": {
          "base_uri": "https://localhost:8080/",
          "height": 35
        },
        "id": "jIBjV_3PtH7q",
        "outputId": "a229b90d-8170-4749-fce2-bd082e7b4869"
      },
      "source": [
        "L = 'Hello' \n",
        "L[-1::-1]"
      ],
      "execution_count": null,
      "outputs": [
        {
          "output_type": "execute_result",
          "data": {
            "application/vnd.google.colaboratory.intrinsic+json": {
              "type": "string"
            },
            "text/plain": [
              "'olleH'"
            ]
          },
          "metadata": {
            "tags": []
          },
          "execution_count": 107
        }
      ]
    },
    {
      "cell_type": "markdown",
      "metadata": {
        "id": "hk3TpEVKG1GQ"
      },
      "source": [
        "####Question 5"
      ]
    },
    {
      "cell_type": "code",
      "metadata": {
        "id": "lcISvxF-Ei3Z"
      },
      "source": [
        "L = list(range(1,102))"
      ],
      "execution_count": null,
      "outputs": []
    },
    {
      "cell_type": "code",
      "metadata": {
        "colab": {
          "base_uri": "https://localhost:8080/"
        },
        "id": "5pf42A8HG4NO",
        "outputId": "886aa951-d6fb-4b99-857e-9bd5faa19e22"
      },
      "source": [
        " print([i if i % 2 != 0 else L[-i] for i in L])"
      ],
      "execution_count": null,
      "outputs": [
        {
          "output_type": "stream",
          "text": [
            "[1, 100, 3, 98, 5, 96, 7, 94, 9, 92, 11, 90, 13, 88, 15, 86, 17, 84, 19, 82, 21, 80, 23, 78, 25, 76, 27, 74, 29, 72, 31, 70, 33, 68, 35, 66, 37, 64, 39, 62, 41, 60, 43, 58, 45, 56, 47, 54, 49, 52, 51, 50, 53, 48, 55, 46, 57, 44, 59, 42, 61, 40, 63, 38, 65, 36, 67, 34, 69, 32, 71, 30, 73, 28, 75, 26, 77, 24, 79, 22, 81, 20, 83, 18, 85, 16, 87, 14, 89, 12, 91, 10, 93, 8, 95, 6, 97, 4, 99, 2, 101]\n"
          ],
          "name": "stdout"
        }
      ]
    },
    {
      "cell_type": "markdown",
      "metadata": {
        "id": "0QEXFQKIG4mi"
      },
      "source": [
        "####Question 6"
      ]
    },
    {
      "cell_type": "code",
      "metadata": {
        "id": "NCZy8xX3G9E1"
      },
      "source": [
        "def psquares(a, b):\n",
        "\n",
        "  for i in range(a, b+1):\n",
        "    j = 1\n",
        "    while j * j <= i:\n",
        "      if j * j == i:\n",
        "        perfectsquares.append(i)\n",
        "      j += 1\n",
        "    i += 1\n",
        "  return perfectsquares"
      ],
      "execution_count": 334,
      "outputs": []
    },
    {
      "cell_type": "code",
      "metadata": {
        "colab": {
          "base_uri": "https://localhost:8080/"
        },
        "id": "DbvgoRwXabNP",
        "outputId": "a7cde32e-ada9-4720-88ad-a1d88f210d90"
      },
      "source": [
        "psquares(0, 10000)"
      ],
      "execution_count": 335,
      "outputs": [
        {
          "output_type": "execute_result",
          "data": {
            "text/plain": [
              "[1,\n",
              " 4,\n",
              " 9,\n",
              " 16,\n",
              " 25,\n",
              " 36,\n",
              " 49,\n",
              " 64,\n",
              " 81,\n",
              " 100,\n",
              " 121,\n",
              " 144,\n",
              " 169,\n",
              " 196,\n",
              " 225,\n",
              " 256,\n",
              " 289,\n",
              " 324,\n",
              " 361,\n",
              " 400,\n",
              " 441,\n",
              " 484,\n",
              " 529,\n",
              " 576,\n",
              " 625,\n",
              " 676,\n",
              " 729,\n",
              " 784,\n",
              " 841,\n",
              " 900,\n",
              " 961,\n",
              " 1024,\n",
              " 1089,\n",
              " 1156,\n",
              " 1225,\n",
              " 1296,\n",
              " 1369,\n",
              " 1444,\n",
              " 1521,\n",
              " 1600,\n",
              " 1681,\n",
              " 1764,\n",
              " 1849,\n",
              " 1936,\n",
              " 2025,\n",
              " 2116,\n",
              " 2209,\n",
              " 2304,\n",
              " 2401,\n",
              " 2500,\n",
              " 2601,\n",
              " 2704,\n",
              " 2809,\n",
              " 2916,\n",
              " 3025,\n",
              " 3136,\n",
              " 3249,\n",
              " 3364,\n",
              " 3481,\n",
              " 3600,\n",
              " 3721,\n",
              " 3844,\n",
              " 3969,\n",
              " 4096,\n",
              " 4225,\n",
              " 4356,\n",
              " 4489,\n",
              " 4624,\n",
              " 4761,\n",
              " 4900,\n",
              " 5041,\n",
              " 5184,\n",
              " 5329,\n",
              " 5476,\n",
              " 5625,\n",
              " 5776,\n",
              " 5929,\n",
              " 6084,\n",
              " 6241,\n",
              " 6400,\n",
              " 6561,\n",
              " 6724,\n",
              " 6889,\n",
              " 7056,\n",
              " 7225,\n",
              " 7396,\n",
              " 7569,\n",
              " 7744,\n",
              " 7921,\n",
              " 8100,\n",
              " 8281,\n",
              " 8464,\n",
              " 8649,\n",
              " 8836,\n",
              " 9025,\n",
              " 9216,\n",
              " 9409,\n",
              " 9604,\n",
              " 9801,\n",
              " 10000]"
            ]
          },
          "metadata": {
            "tags": []
          },
          "execution_count": 335
        }
      ]
    },
    {
      "cell_type": "markdown",
      "metadata": {
        "id": "7frhJTrkG8a0"
      },
      "source": [
        "####Question 7"
      ]
    },
    {
      "cell_type": "code",
      "metadata": {
        "id": "9UrPZdzAkcAf"
      },
      "source": [
        "suits = ['C', 'S', 'D', 'H']\n",
        "numbers = ['1','2','3','4','5','6','7','8','9','10','11','12','13']\n",
        "\n",
        "cards = []\n",
        "for i in numbers:\n",
        "  for j in suits:\n",
        "    cards.append((i+j))"
      ],
      "execution_count": null,
      "outputs": []
    },
    {
      "cell_type": "code",
      "metadata": {
        "colab": {
          "base_uri": "https://localhost:8080/"
        },
        "id": "bBASDMuolzEM",
        "outputId": "dcc46d96-eff1-410d-e618-bc9237023398"
      },
      "source": [
        "print(cards)"
      ],
      "execution_count": null,
      "outputs": [
        {
          "output_type": "stream",
          "text": [
            "['1C', '1S', '1D', '1H', '2C', '2S', '2D', '2H', '3C', '3S', '3D', '3H', '4C', '4S', '4D', '4H', '5C', '5S', '5D', '5H', '6C', '6S', '6D', '6H', '7C', '7S', '7D', '7H', '8C', '8S', '8D', '8H', '9C', '9S', '9D', '9H', '10C', '10S', '10D', '10H', '11C', '11S', '11D', '11H', '12C', '12S', '12D', '12H', '13C', '13S', '13D', '13H']\n"
          ],
          "name": "stdout"
        }
      ]
    },
    {
      "cell_type": "markdown",
      "metadata": {
        "id": "mYmk0IJCbLHq"
      },
      "source": [
        "####Question 8"
      ]
    },
    {
      "cell_type": "code",
      "metadata": {
        "colab": {
          "base_uri": "https://localhost:8080/",
          "height": 232
        },
        "id": "xobtDCIGbNNY",
        "outputId": "09c69720-6482-4299-896f-3f37d6b3c106"
      },
      "source": [
        "examplelist = [1,2,3,4,5,6]\n",
        "\n",
        "l\n",
        "\n",
        "x = iter(examplelist[0:halfway])\n",
        "y = iter(examplelist[halfway: ])\n",
        "\n",
        "shuffle = []\n",
        "\n",
        "for i in range(halway):\n",
        "  shuffle.append(x)\n",
        "  shuffle.append(y)\n",
        "\n",
        "  if len(cards)%2 != 0:\n",
        "    shuffle.append(y)\n",
        "\n",
        "print(shuffle)"
      ],
      "execution_count": 340,
      "outputs": [
        {
          "output_type": "error",
          "ename": "TypeError",
          "evalue": "ignored",
          "traceback": [
            "\u001b[0;31m---------------------------------------------------------------------------\u001b[0m",
            "\u001b[0;31mTypeError\u001b[0m                                 Traceback (most recent call last)",
            "\u001b[0;32m<ipython-input-340-d1437b845c38>\u001b[0m in \u001b[0;36m<module>\u001b[0;34m()\u001b[0m\n\u001b[1;32m      3\u001b[0m \u001b[0mhalfway\u001b[0m \u001b[0;34m=\u001b[0m \u001b[0mlen\u001b[0m\u001b[0;34m(\u001b[0m\u001b[0mexamplelist\u001b[0m\u001b[0;34m)\u001b[0m\u001b[0;34m/\u001b[0m\u001b[0;36m2\u001b[0m\u001b[0;34m\u001b[0m\u001b[0;34m\u001b[0m\u001b[0m\n\u001b[1;32m      4\u001b[0m \u001b[0;34m\u001b[0m\u001b[0m\n\u001b[0;32m----> 5\u001b[0;31m \u001b[0mx\u001b[0m \u001b[0;34m=\u001b[0m \u001b[0miter\u001b[0m\u001b[0;34m(\u001b[0m\u001b[0mexamplelist\u001b[0m\u001b[0;34m[\u001b[0m\u001b[0;36m0\u001b[0m\u001b[0;34m:\u001b[0m\u001b[0mhalfway\u001b[0m\u001b[0;34m]\u001b[0m\u001b[0;34m)\u001b[0m\u001b[0;34m\u001b[0m\u001b[0;34m\u001b[0m\u001b[0m\n\u001b[0m\u001b[1;32m      6\u001b[0m \u001b[0my\u001b[0m \u001b[0;34m=\u001b[0m \u001b[0miter\u001b[0m\u001b[0;34m(\u001b[0m\u001b[0mexamplelist\u001b[0m\u001b[0;34m[\u001b[0m\u001b[0mhalfway\u001b[0m\u001b[0;34m:\u001b[0m \u001b[0;34m]\u001b[0m\u001b[0;34m)\u001b[0m\u001b[0;34m\u001b[0m\u001b[0;34m\u001b[0m\u001b[0m\n\u001b[1;32m      7\u001b[0m \u001b[0;34m\u001b[0m\u001b[0m\n",
            "\u001b[0;31mTypeError\u001b[0m: slice indices must be integers or None or have an __index__ method"
          ]
        }
      ]
    },
    {
      "cell_type": "markdown",
      "metadata": {
        "id": "DIORkSZEo1Nu"
      },
      "source": [
        "## Sieve of Eratosthenes"
      ]
    },
    {
      "cell_type": "markdown",
      "metadata": {
        "id": "rTQgPGs2o1Nu"
      },
      "source": [
        "The **Sieve of Eratosthenes** (hereafter called \"the sieve\") is a very fast way of producing long lists of primes, without doing repeated primality checking.  The basic idea is to start with all of the natural numbers, and successively filter out, or [**sieve**](https://en.wikipedia.org/wiki/Sieve), the multiples of 2, then the multiples of 3, then the multiples of 5, etc., until only primes are left.  You can read more about the sieve, and experimental number theory, at [The Conversation](https://theconversation.com/why-prime-numbers-still-fascinate-mathematicians-2-300-years-later-92484)\n",
        "\n",
        "Using list slicing, we can carry out this sieving process efficiently.  And with a few more tricks we encounter here, we can carry out the Sieve **very** efficiently."
      ]
    },
    {
      "cell_type": "markdown",
      "metadata": {
        "id": "_jx0oxsuo1Nu"
      },
      "source": [
        "### The basic sieve\n",
        "\n",
        "The first approach we introduce is a bit naive, but is a good starting place.  We will begin with a list of numbers up to 100, and sieve out the appropriate multiples of 2,3,5,7."
      ]
    },
    {
      "cell_type": "code",
      "metadata": {
        "id": "xiF25G0Zo1Nu"
      },
      "source": [
        "primes = list(range(100)) # Let's start with the numbers 0...99."
      ],
      "execution_count": null,
      "outputs": []
    },
    {
      "cell_type": "markdown",
      "metadata": {
        "id": "XIDLjxG4o1Nu"
      },
      "source": [
        "Now, to \"filter\", i.e., to say that a number is *not* prime, let's just change the number to the value `None`.  "
      ]
    },
    {
      "cell_type": "code",
      "metadata": {
        "id": "5VK6hIBEo1Nu",
        "colab": {
          "base_uri": "https://localhost:8080/"
        },
        "outputId": "7948b1a3-dc7a-40af-8f4e-03ab26cb34b5"
      },
      "source": [
        "primes[0] = None # Zero is not prime.\n",
        "primes[1] = None # One is not prime.\n",
        "print(primes) # What have we done?"
      ],
      "execution_count": null,
      "outputs": [
        {
          "output_type": "stream",
          "text": [
            "[None, None, 2, 3, 4, 5, 6, 7, 8, 9, 10, 11, 12, 13, 14, 15, 16, 17, 18, 19, 20, 21, 22, 23, 24, 25, 26, 27, 28, 29, 30, 31, 32, 33, 34, 35, 36, 37, 38, 39, 40, 41, 42, 43, 44, 45, 46, 47, 48, 49, 50, 51, 52, 53, 54, 55, 56, 57, 58, 59, 60, 61, 62, 63, 64, 65, 66, 67, 68, 69, 70, 71, 72, 73, 74, 75, 76, 77, 78, 79, 80, 81, 82, 83, 84, 85, 86, 87, 88, 89, 90, 91, 92, 93, 94, 95, 96, 97, 98, 99]\n"
          ],
          "name": "stdout"
        }
      ]
    },
    {
      "cell_type": "markdown",
      "metadata": {
        "id": "f60YBXEpo1Nv"
      },
      "source": [
        "Now let's filter out the multiples of 2, starting at 4.  This is the slice `primes[4::2]`"
      ]
    },
    {
      "cell_type": "code",
      "metadata": {
        "id": "WIBb5mQ3o1Nv",
        "colab": {
          "base_uri": "https://localhost:8080/"
        },
        "outputId": "45aa5f2d-9ddc-48d8-cb42-b24c3e8dae67"
      },
      "source": [
        "primes[4::2] = [None] * len(primes[4::2])  # The right side is a list of Nones, of the necessary length.\n",
        "print(primes) # What have we done?"
      ],
      "execution_count": null,
      "outputs": [
        {
          "output_type": "stream",
          "text": [
            "[None, None, 2, 3, None, 5, None, 7, None, 9, None, 11, None, 13, None, 15, None, 17, None, 19, None, 21, None, 23, None, 25, None, 27, None, 29, None, 31, None, 33, None, 35, None, 37, None, 39, None, 41, None, 43, None, 45, None, 47, None, 49, None, 51, None, 53, None, 55, None, 57, None, 59, None, 61, None, 63, None, 65, None, 67, None, 69, None, 71, None, 73, None, 75, None, 77, None, 79, None, 81, None, 83, None, 85, None, 87, None, 89, None, 91, None, 93, None, 95, None, 97, None, 99]\n"
          ],
          "name": "stdout"
        }
      ]
    },
    {
      "cell_type": "markdown",
      "metadata": {
        "id": "gD0IZ3ffo1Nv"
      },
      "source": [
        "Now we filter out the multiples of 3, starting at 9."
      ]
    },
    {
      "cell_type": "code",
      "metadata": {
        "id": "nRDiN5ZYo1Nv",
        "colab": {
          "base_uri": "https://localhost:8080/"
        },
        "outputId": "eb502ff7-ea30-4cf1-93b6-d187803277da"
      },
      "source": [
        "primes[9::3] = [None] * len(primes[9::3])  # The right side is a list of Nones, of the necessary length.\n",
        "print(primes) # What have we done?"
      ],
      "execution_count": null,
      "outputs": [
        {
          "output_type": "stream",
          "text": [
            "[None, None, 2, 3, None, 5, None, 7, None, None, None, 11, None, 13, None, None, None, 17, None, 19, None, None, None, 23, None, 25, None, None, None, 29, None, 31, None, None, None, 35, None, 37, None, None, None, 41, None, 43, None, None, None, 47, None, 49, None, None, None, 53, None, 55, None, None, None, 59, None, 61, None, None, None, 65, None, 67, None, None, None, 71, None, 73, None, None, None, 77, None, 79, None, None, None, 83, None, 85, None, None, None, 89, None, 91, None, None, None, 95, None, 97, None, None]\n"
          ],
          "name": "stdout"
        }
      ]
    },
    {
      "cell_type": "markdown",
      "metadata": {
        "id": "OkeNZU2Uo1Nv"
      },
      "source": [
        "Next the multiples of 5, starting at 25 (the first multiple of 5 greater than 5 that's left!)"
      ]
    },
    {
      "cell_type": "code",
      "metadata": {
        "id": "Aocpditlo1Nv",
        "colab": {
          "base_uri": "https://localhost:8080/"
        },
        "outputId": "e6729b9b-9217-40dc-8836-6509a2688304"
      },
      "source": [
        "primes[25::5] = [None] * len(primes[25::5])  # The right side is a list of Nones, of the necessary length.\n",
        "print(primes) # What have we done?"
      ],
      "execution_count": null,
      "outputs": [
        {
          "output_type": "stream",
          "text": [
            "[None, None, 2, 3, None, 5, None, 7, None, None, None, 11, None, 13, None, None, None, 17, None, 19, None, None, None, 23, None, None, None, None, None, 29, None, 31, None, None, None, None, None, 37, None, None, None, 41, None, 43, None, None, None, 47, None, 49, None, None, None, 53, None, None, None, None, None, 59, None, 61, None, None, None, None, None, 67, None, None, None, 71, None, 73, None, None, None, 77, None, 79, None, None, None, 83, None, None, None, None, None, 89, None, 91, None, None, None, None, None, 97, None, None]\n"
          ],
          "name": "stdout"
        }
      ]
    },
    {
      "cell_type": "markdown",
      "metadata": {
        "id": "9DYckJ43o1Nv"
      },
      "source": [
        "Finally, the multiples of 7, starting at 49 (the first multiple of 7 greater than 7 that's left!)"
      ]
    },
    {
      "cell_type": "code",
      "metadata": {
        "id": "NMMhQYBqo1Nv",
        "colab": {
          "base_uri": "https://localhost:8080/"
        },
        "outputId": "b1aaf840-cecd-4078-fb01-a7808433502d"
      },
      "source": [
        "primes[49::7] = [None] * len(primes[49::7])  # The right side is a list of Nones, of the necessary length.\n",
        "print(primes) # What have we done?"
      ],
      "execution_count": null,
      "outputs": [
        {
          "output_type": "stream",
          "text": [
            "[None, None, 2, 3, None, 5, None, 7, None, None, None, 11, None, 13, None, None, None, 17, None, 19, None, None, None, 23, None, None, None, None, None, 29, None, 31, None, None, None, None, None, 37, None, None, None, 41, None, 43, None, None, None, 47, None, None, None, None, None, 53, None, None, None, None, None, 59, None, 61, None, None, None, None, None, 67, None, None, None, 71, None, 73, None, None, None, None, None, 79, None, None, None, 83, None, None, None, None, None, 89, None, None, None, None, None, None, None, 97, None, None]\n"
          ],
          "name": "stdout"
        }
      ]
    },
    {
      "cell_type": "markdown",
      "metadata": {
        "id": "6Dulthjho1Nv"
      },
      "source": [
        "What's left?  A lot of `None`s and the prime numbers up to 100.  We have successfully sieved out all the nonprime numbers in the list, using just four sieving steps (and setting 0 and 1 to `None` manually).  \n",
        "\n",
        "But there's a lot of room for improvement, from beginning to end!\n",
        "\n",
        "1.  The format of the end result is not so nice.\n",
        "2.  We had to sieve each step manually.  It would be much better to have a function `prime_list(n)` which would output a list of primes up to `n` without so much supervision.\n",
        "3.  The memory usage will be large, if we need to store all the numbers up to a large `n` at the beginning.\n",
        "\n",
        "We solve these problems in the following way.\n",
        "\n",
        "1.  We will use a list of **booleans** rather than a list of numbers.  The ending list will have a `True` value at prime indices and a `False` value at composite indices.  This reduces the memory usage and increases the speed.  \n",
        "2.  A `which` function (explained soon) will make the desired list of primes after everything else is done.\n",
        "3.  We will proceed through the sieving steps algorithmically rather than entering each step manually.\n",
        "\n",
        "Here is a somewhat efficient implementation of the Sieve in Python."
      ]
    },
    {
      "cell_type": "code",
      "metadata": {
        "id": "HfOTwel_o1Nv"
      },
      "source": [
        "from math import sqrt\n",
        "def isprime_list(n):\n",
        "    ''' \n",
        "    Return a list of length n+1\n",
        "    with Trues at prime indices and Falses at composite indices.\n",
        "    '''\n",
        "    flags = [True] * (n+1)  # A list [True, True, True,...] to start.\n",
        "    flags[0] = False  # Zero is not prime.  So its flag is set to False.\n",
        "    flags[1] = False  # One is not prime.  So its flag is set to False.\n",
        "    p = 2  # The first prime is 2.  And we start sieving by multiples of 2.\n",
        "    \n",
        "    while p <= sqrt(n):  # We only need to sieve by p is p <= sqrt(n).\n",
        "        if flags[p]:  # We sieve the multiples of p if flags[p]=True.\n",
        "            flags[p*p::p] = [False] * len(flags[p*p::p]) # Sieves out multiples of p, starting at p*p.\n",
        "        p = p + 1 # Try the next value of p.\n",
        "        \n",
        "    return flags"
      ],
      "execution_count": 286,
      "outputs": []
    },
    {
      "cell_type": "code",
      "metadata": {
        "id": "eM2OGaymo1Nw",
        "colab": {
          "base_uri": "https://localhost:8080/"
        },
        "outputId": "3c4a9a84-ee19-42a7-a4e3-e61654fce14b"
      },
      "source": [
        "print(isprime_list(100))"
      ],
      "execution_count": 289,
      "outputs": [
        {
          "output_type": "stream",
          "text": [
            "[False, False, True, True, False, True, False, True, False, False, False, True, False, True, False, False, False, True, False, True, False, False, False, True, False, False, False, False, False, True, False, True, False, False, False, False, False, True, False, False, False, True, False, True, False, False, False, True, False, False, False, False, False, True, False, False, False, False, False, True, False, True, False, False, False, False, False, True, False, False, False, True, False, True, False, False, False, False, False, True, False, False, False, True, False, False, False, False, False, True, False, False, False, False, False, False, False, True, False, False, False]\n"
          ],
          "name": "stdout"
        }
      ]
    },
    {
      "cell_type": "markdown",
      "metadata": {
        "id": "73FT-HVIo1Nw"
      },
      "source": [
        "If you look carefully at the list of booleans, you will notice a `True` value at the 2nd index, the 3rd index, the 5th index, the 7th index, etc..  The indices where the values are `True` are precisely the **prime** indices.  Since booleans take the smallest amount of memory of any data type (one **bit** of memory per boolean), your computer can carry out the `isprime_list(n)` function even when `n` is very large.\n",
        "\n",
        "To be more precise, there are 8 bits in a **byte**.  There are 1024 bytes (about 1000) in a kilobyte.  There are 1024 kilobytes in a megabyte.  There are 1024 megabytes in a gigabyte.  Therefore, a gigabyte of memory is enough to store about 8 billion bits.  That's enough to store the result of `isprime_list(n)` when `n` is about 8 billion.  Not bad!  And your computer probably has 4 or 8 or 12 or 16 gigabytes of memory to use.\n",
        "\n"
      ]
    },
    {
      "cell_type": "markdown",
      "metadata": {
        "id": "TtTBE8U0o1Nw"
      },
      "source": [
        "To transform the list of booleans into a list of prime numbers, we create a function called `where`.  This function uses another Python technique called **list comprehension**.  We discuss this technique later in this lesson, so just use the `where` function as a tool for now, or [read about list comprehension](https://docs.python.org/2/tutorial/datastructures.html#list-comprehensions) if you're curious."
      ]
    },
    {
      "cell_type": "code",
      "metadata": {
        "id": "q_ZiUC2uo1Nw"
      },
      "source": [
        "def where(L):\n",
        "    '''\n",
        "    Take a list of booleans as input and\n",
        "    outputs the list of indices where True occurs.\n",
        "    '''\n",
        "    return [n for n in range(len(L)) if L[n]]\n",
        "    "
      ],
      "execution_count": 288,
      "outputs": []
    },
    {
      "cell_type": "markdown",
      "metadata": {
        "id": "_rkxdrhmo1Nw"
      },
      "source": [
        "Combined with the `isprime_list` function, we can produce long lists of primes."
      ]
    },
    {
      "cell_type": "code",
      "metadata": {
        "scrolled": true,
        "id": "MkA2LdBlo1Nw",
        "colab": {
          "base_uri": "https://localhost:8080/"
        },
        "outputId": "b5477667-36aa-4395-ab56-bcca94091782"
      },
      "source": [
        "print(where(isprime_list(100)))"
      ],
      "execution_count": null,
      "outputs": [
        {
          "output_type": "stream",
          "text": [
            "[2, 3, 5, 7, 11, 13, 17, 19, 23, 29, 31, 37, 41, 43, 47, 53, 59, 61, 67, 71, 73, 79, 83, 89, 97]\n"
          ],
          "name": "stdout"
        }
      ]
    },
    {
      "cell_type": "markdown",
      "metadata": {
        "id": "gy3KRYbAo1Nw"
      },
      "source": [
        "Let's push it a bit further.  How many primes are there between 1 and 1 million?  We can figure this out in three steps:\n",
        "\n",
        "1.  Create the isprime_list.\n",
        "2.  Use where to get the list of primes.\n",
        "3.  Find the length of the list of primes.\n",
        "\n",
        "But it's better to do it in two steps.\n",
        "\n",
        "1.  Create the isprime_list.\n",
        "2.  Sum the list!  (Note that `True` is 1, for the purpose of summation!)"
      ]
    },
    {
      "cell_type": "code",
      "metadata": {
        "id": "MpIGIxjro1Nw",
        "colab": {
          "base_uri": "https://localhost:8080/"
        },
        "outputId": "ba548470-f2d9-4409-bf8e-d2e614c37747"
      },
      "source": [
        "sum(isprime_list(1000000))  # The number of primes up to a million!"
      ],
      "execution_count": null,
      "outputs": [
        {
          "output_type": "execute_result",
          "data": {
            "text/plain": [
              "78498"
            ]
          },
          "metadata": {
            "tags": []
          },
          "execution_count": 11
        }
      ]
    },
    {
      "cell_type": "code",
      "metadata": {
        "id": "uQx3_5suo1Nw",
        "colab": {
          "base_uri": "https://localhost:8080/"
        },
        "outputId": "15b1a497-509f-4f50-c398-c8a0a8196264"
      },
      "source": [
        "%timeit isprime_list(10**6)  # 1000 ms = 1 second."
      ],
      "execution_count": null,
      "outputs": [
        {
          "output_type": "stream",
          "text": [
            "10 loops, best of 3: 60.9 ms per loop\n"
          ],
          "name": "stdout"
        }
      ]
    },
    {
      "cell_type": "code",
      "metadata": {
        "id": "Dy3dxyNCo1Nw",
        "colab": {
          "base_uri": "https://localhost:8080/"
        },
        "outputId": "7458f7a1-c226-4174-a418-72ec28952837"
      },
      "source": [
        "%timeit sum(isprime_list(10**6))"
      ],
      "execution_count": null,
      "outputs": [
        {
          "output_type": "stream",
          "text": [
            "10 loops, best of 3: 84.2 ms per loop\n"
          ],
          "name": "stdout"
        }
      ]
    },
    {
      "cell_type": "markdown",
      "metadata": {
        "id": "WiEYpMXUo1Nw"
      },
      "source": [
        "This isn't too bad!  It takes a fraction of a second to identify the primes up to a million, and a smaller fraction of a second to count them!  But we can do a little better.  \n",
        "\n",
        "The first improvement is to take care of the even numbers first.  If we count carefully, then the sequence 4,6,8,...,n (ending at n-1 if n is odd) has the floor of (n-2)/2 terms.  Thus the line `flags[4::2] = [False] * ((n-2)//2)` will set all the flags to False in the sequence 4,6,8,10,...  From there, we can begin sieving by *odd* primes starting with 3.\n",
        "\n",
        "The next improvement is that, since we've already sieved out all the even numbers (except 2), we don't have to sieve out again by *even multiples*.  So when sieving by multiples of 3, we don't have to sieve out 9,12,15,18,21,etc..  We can just sieve out 9,15,21,etc..  When `p` is an odd prime, this can be taken care of with the code `flags[p*p::2*p] = [False] * len(flags[p*p::2*p])`.  "
      ]
    },
    {
      "cell_type": "code",
      "metadata": {
        "id": "MBU0GJsSo1Nx"
      },
      "source": [
        "def isprime_list(n):\n",
        "    ''' \n",
        "    Return a list of length n+1\n",
        "    with Trues at prime indices and Falses at composite indices.\n",
        "    '''\n",
        "    flags = [True] * (n+1)  # A list [True, True, True,...] to start.\n",
        "    flags[0] = False  # Zero is not prime.  So its flag is set to False.\n",
        "    flags[1] = False  # One is not prime.  So its flag is set to False.\n",
        "    flags[4::2] = [False] * ((n-2)//2)\n",
        "    p = 3\n",
        "    while p <= sqrt(n):  # We only need to sieve by p is p <= sqrt(n).\n",
        "        if flags[p]:  # We sieve the multiples of p if flags[p]=True.\n",
        "            flags[p*p::2*p] = [False] * len(flags[p*p::2*p]) # Sieves out multiples of p, starting at p*p.\n",
        "        p = p + 2 # Try the next value of p.  Note that we can proceed only through odd p!\n",
        "        \n",
        "    return flags"
      ],
      "execution_count": null,
      "outputs": []
    },
    {
      "cell_type": "code",
      "metadata": {
        "id": "gW6DlvCmo1Nx",
        "colab": {
          "base_uri": "https://localhost:8080/"
        },
        "outputId": "80897777-92e8-48eb-e1fd-49e40ca36436"
      },
      "source": [
        "%timeit sum(isprime_list(10**6))  # How much did this speed it up?"
      ],
      "execution_count": null,
      "outputs": [
        {
          "output_type": "stream",
          "text": [
            "10 loops, best of 3: 67.6 ms per loop\n"
          ],
          "name": "stdout"
        }
      ]
    },
    {
      "cell_type": "markdown",
      "metadata": {
        "id": "e4DH-DRcw1Np"
      },
      "source": [
        "It improved about 16 ms per loop."
      ]
    },
    {
      "cell_type": "markdown",
      "metadata": {
        "id": "hiCV5pUEo1Nx"
      },
      "source": [
        "Another modest improvement is the following.  In the code above, the program *counts* the terms in sequences like 9,15,21,27,..., in order to set them to `False`.  This is accomplished with the length command `len(flags[p*p::2*p])`.  But that length computation is a bit too intensive.  A bit of algebraic work shows that the length is given formulaically in terms of `p` and `n` by the formula:  \n",
        "\n",
        "$$len = \\lfloor \\frac{n - p^2 - 1}{2p} \\rfloor + 1$$\n",
        "\n",
        "(Here $\\lfloor x \\rfloor$ denotes the floor function, i.e., the result of rounding down.)  Putting this into the code yields the following."
      ]
    },
    {
      "cell_type": "code",
      "metadata": {
        "id": "46RPEsKCo1Nx"
      },
      "source": [
        "def isprime_list(n):\n",
        "    ''' \n",
        "    Return a list of length n+1\n",
        "    with Trues at prime indices and Falses at composite indices.\n",
        "    '''\n",
        "    flags = [True] * (n+1)  # A list [True, True, True,...] to start.\n",
        "    flags[0] = False  # Zero is not prime.  So its flag is set to False.\n",
        "    flags[1] = False  # One is not prime.  So its flag is set to False.\n",
        "    flags[4::2] = [False] * ((n-2)//2)\n",
        "    p = 3\n",
        "    while p <= sqrt(n):  # We only need to sieve by p is p <= sqrt(n).\n",
        "        if flags[p]:  # We sieve the multiples of p if flags[p]=True.\n",
        "            flags[p*p::2*p] = [False] * ((n-p*p)//(2*p)+1) # Sieves out multiples of p, starting at p*p.\n",
        "        p = p + 2 # Try the next value of p.\n",
        "        \n",
        "    return flags"
      ],
      "execution_count": 499,
      "outputs": []
    },
    {
      "cell_type": "code",
      "metadata": {
        "id": "gMCxzJ8yo1Nx",
        "colab": {
          "base_uri": "https://localhost:8080/"
        },
        "outputId": "2892df3f-9bab-416b-a6f4-43109d967979"
      },
      "source": [
        "%timeit sum(isprime_list(10**6))  # How much did this speed it up?"
      ],
      "execution_count": null,
      "outputs": [
        {
          "output_type": "stream",
          "text": [
            "10 loops, best of 3: 51 ms per loop\n"
          ],
          "name": "stdout"
        }
      ]
    },
    {
      "cell_type": "markdown",
      "metadata": {
        "id": "DJkKAYr1yfqP"
      },
      "source": [
        "It sped up by another 16 ms per loop."
      ]
    },
    {
      "cell_type": "markdown",
      "metadata": {
        "id": "NT6XwvCJo1Nx"
      },
      "source": [
        "That should be pretty fast!  It should be under 100 ms (one tenth of one second!) to determine the primes up to a million, and on a newer computer it should be under 50ms.  We have gotten pretty close to the fastest algorithms that you can find in Python, without using external packages (like SAGE or sympy).  See the related [discussion on StackOverflow](https://stackoverflow.com/questions/2068372/fastest-way-to-list-all-primes-below-n)... the code in this lesson was influenced by the code presented there."
      ]
    },
    {
      "cell_type": "markdown",
      "metadata": {
        "id": "8Noiny4ho1Nx"
      },
      "source": [
        "### Exercises\n",
        "\n",
        "1.  Prove that the length of `range(p*p, n, 2*p)` equals $\\lfloor \\frac{n - p^2 - 1}{2p} \\rfloor + 1$.\n",
        "\n",
        "2.  A natural number $n$ is called squarefree if it has no perfect square divides $n$ except for 1.  Write a function `squarefree_list(n)` which outputs a list of booleans:  `True` if the index is squarefree and `False` if the index is not squarefree.  For example, if you execute `squarefree_list(12)`, the output should be `[False, True, True, True, False, True, True, True, False, False, True, True, False]`.  Note that the `False` entries are located the indices 0, 4, 8, 9, 12.  These natural numbers have perfect square divisors besides 1.  \n",
        "\n",
        "3.  Your DNA contains about 3 billion base pairs.  Each \"base pair\" can be thought of as a letter, A, T, G, or C.  How many bits would be required to store a single base pair?  In other words, how might you convert a sequence of booleans into a letter A,T,G, or C?  Given this, how many megabytes or gigabytes are required to store your DNA?  How many people's DNA would fit on a thumb-drive?"
      ]
    },
    {
      "cell_type": "markdown",
      "metadata": {
        "id": "xzRR74ukyrM5"
      },
      "source": [
        "####Question 1"
      ]
    },
    {
      "cell_type": "code",
      "metadata": {
        "id": "xBD3OUCM9Cy-"
      },
      "source": [
        "import math"
      ],
      "execution_count": 527,
      "outputs": []
    },
    {
      "cell_type": "code",
      "metadata": {
        "colab": {
          "base_uri": "https://localhost:8080/"
        },
        "id": "9gDziFZD8wvO",
        "outputId": "9b7564aa-41ef-44a2-c0b8-46f1146f3ddc"
      },
      "source": [
        "len(range(p*p, n, 2*p)) == math.floor((n - p*p - 1)/(2*p))+1"
      ],
      "execution_count": 526,
      "outputs": [
        {
          "output_type": "execute_result",
          "data": {
            "text/plain": [
              "True"
            ]
          },
          "metadata": {
            "tags": []
          },
          "execution_count": 526
        }
      ]
    },
    {
      "cell_type": "markdown",
      "metadata": {
        "id": "Mtibzns9sLuh"
      },
      "source": [
        "####Question 2"
      ]
    },
    {
      "cell_type": "markdown",
      "metadata": {
        "id": "rxXITT9GAU2T"
      },
      "source": [
        "Fell asleep going back through my notebook to turn it in, that's why I couldn't get time to print this to print as a list."
      ]
    },
    {
      "cell_type": "code",
      "metadata": {
        "id": "kLT4GN4-_wGQ"
      },
      "source": [
        "def squarefree_list(n):\n",
        "  for i in range(2, round(n**0.5)):\n",
        "      if n%(i**2) == 0:\n",
        "        return False\n",
        "  return True"
      ],
      "execution_count": 9,
      "outputs": []
    },
    {
      "cell_type": "code",
      "metadata": {
        "colab": {
          "base_uri": "https://localhost:8080/"
        },
        "id": "vAvlAR9FAMN6",
        "outputId": "3ab4f5dd-e75b-4627-c58c-82f659436769"
      },
      "source": [
        "squarefree_list(12)"
      ],
      "execution_count": 10,
      "outputs": [
        {
          "output_type": "execute_result",
          "data": {
            "text/plain": [
              "False"
            ]
          },
          "metadata": {
            "tags": []
          },
          "execution_count": 10
        }
      ]
    },
    {
      "cell_type": "markdown",
      "metadata": {
        "id": "4i326UYNeZ_9"
      },
      "source": [
        "####Question 3"
      ]
    },
    {
      "cell_type": "markdown",
      "metadata": {
        "id": "Y88yol86echA"
      },
      "source": [
        "We already know that in order to store a single base pair, it requires two bits of storage. This also applies to one of the letters A, T, G, and C, which can be thought of as base pairs. It is given that there is 3 billion base pairs in our DNA, which means we would need 6 billion bits to store our DNA base pairs. \n",
        "\n",
        "6 billion bits is 750 million bytes, which is roughly 750 megabytes. This makes sense because each letter can be thought of as a boolean (ex. 00, 01, 10, 11). Since a thumb drive stores 8 GB of data, we see that 8000/750 is roughly 11, so roughly 11 people's DNA could fit on a thumb drive. "
      ]
    },
    {
      "cell_type": "markdown",
      "metadata": {
        "id": "tuP5axz9o1Nx"
      },
      "source": [
        "## Data analysis"
      ]
    },
    {
      "cell_type": "markdown",
      "metadata": {
        "id": "41IrhAupo1Nx"
      },
      "source": [
        "Now that we can produce a list of prime numbers quickly, we can do some data analysis:  some experimental number theory to look for trends or patterns in the sequence of prime numbers.  Since Euclid (about 300 BCE), we have known that there are infinitely many prime numbers.  But how are they distributed?  What proportion of numbers are prime, and how does this proportion change over different ranges?  As theoretical questions, these belong the the field of analytic number theory.  But it is hard to know what to prove without doing a bit of experimentation.  And so, at least since Gauss [(read Tschinkel's article about Gauss's tables)](http://www.ams.org/journals/bull/2006-43-01/S0273-0979-05-01096-7/S0273-0979-05-01096-7.pdf) started examining his extensive tables of prime numbers, mathematicians have been carrying out experimental number theory."
      ]
    },
    {
      "cell_type": "markdown",
      "metadata": {
        "id": "ZE0QFlwYo1Ny"
      },
      "source": [
        "### Analyzing the list of primes\n",
        "\n",
        "Let's begin by creating our data set:  the prime numbers up to 1 million."
      ]
    },
    {
      "cell_type": "code",
      "metadata": {
        "id": "9HB_PuBXo1Ny"
      },
      "source": [
        "primes = where(isprime_list(1000000))"
      ],
      "execution_count": null,
      "outputs": []
    },
    {
      "cell_type": "code",
      "metadata": {
        "id": "bdr1hcP0o1Ny",
        "colab": {
          "base_uri": "https://localhost:8080/"
        },
        "outputId": "be642b36-072f-4def-d4aa-fa54973fd0b0"
      },
      "source": [
        "len(primes) # Our population size.  A statistician might call it N."
      ],
      "execution_count": null,
      "outputs": [
        {
          "output_type": "execute_result",
          "data": {
            "text/plain": [
              "78498"
            ]
          },
          "metadata": {
            "tags": []
          },
          "execution_count": 15
        }
      ]
    },
    {
      "cell_type": "code",
      "metadata": {
        "id": "wJs6DNcBo1Ny",
        "colab": {
          "base_uri": "https://localhost:8080/"
        },
        "outputId": "5e495400-097c-49a7-d881-36b46ff3f88e"
      },
      "source": [
        "primes[-1]  # The last prime in our list, just before one million."
      ],
      "execution_count": null,
      "outputs": [
        {
          "output_type": "execute_result",
          "data": {
            "text/plain": [
              "999983"
            ]
          },
          "metadata": {
            "tags": []
          },
          "execution_count": 16
        }
      ]
    },
    {
      "cell_type": "code",
      "metadata": {
        "scrolled": true,
        "id": "7geu3XMoo1Ny",
        "colab": {
          "base_uri": "https://localhost:8080/"
        },
        "outputId": "ce34cb01-e1cd-4f5b-af01-069f156b2492"
      },
      "source": [
        "type(primes) # What type is this data?"
      ],
      "execution_count": null,
      "outputs": [
        {
          "output_type": "execute_result",
          "data": {
            "text/plain": [
              "list"
            ]
          },
          "metadata": {
            "tags": []
          },
          "execution_count": 17
        }
      ]
    },
    {
      "cell_type": "code",
      "metadata": {
        "id": "siBIu-IGo1Ny",
        "colab": {
          "base_uri": "https://localhost:8080/"
        },
        "outputId": "708f932f-807e-45d0-d874-c08f6a8899f1"
      },
      "source": [
        "print(primes[:100]) # The first hundred prime numbers."
      ],
      "execution_count": null,
      "outputs": [
        {
          "output_type": "stream",
          "text": [
            "[2, 3, 5, 7, 11, 13, 17, 19, 23, 29, 31, 37, 41, 43, 47, 53, 59, 61, 67, 71, 73, 79, 83, 89, 97, 101, 103, 107, 109, 113, 127, 131, 137, 139, 149, 151, 157, 163, 167, 173, 179, 181, 191, 193, 197, 199, 211, 223, 227, 229, 233, 239, 241, 251, 257, 263, 269, 271, 277, 281, 283, 293, 307, 311, 313, 317, 331, 337, 347, 349, 353, 359, 367, 373, 379, 383, 389, 397, 401, 409, 419, 421, 431, 433, 439, 443, 449, 457, 461, 463, 467, 479, 487, 491, 499, 503, 509, 521, 523, 541]\n"
          ],
          "name": "stdout"
        }
      ]
    },
    {
      "cell_type": "markdown",
      "metadata": {
        "id": "A6j9MmSGo1Ny"
      },
      "source": [
        "To carry out serious analysis, we will use the method of **list comprehension** to place our population into \"bins\" for statistical analysis.  Our first type of list comprehension has the form `[x for x in LIST if CONDITION]`.  This produces the list of all elements of LIST satisfying CONDITION.  It is similar to list slicing, except we pull out terms from the list according to whether a condition is true or false.\n",
        "\n",
        "For example, let's divide the (odd) primes into two classes.  Red primes will be those of the form 4n+1.  Blue primes will be those of the form 4n+3.  In other words, a prime `p` is red if `p%4 == 1` and blue if `p%4 == 3`.  And the prime 2 is neither red nor blue."
      ]
    },
    {
      "cell_type": "code",
      "metadata": {
        "id": "bINic7Ceo1Ny",
        "colab": {
          "base_uri": "https://localhost:8080/"
        },
        "outputId": "3743669e-5fc6-4fae-9599-83bf0a772f1e"
      },
      "source": [
        "redprimes = [p for p in primes if p%4 == 1] # Note the [x for x in LIST if CONDITION] syntax.\n",
        "blueprimes = [p for p in primes if p%4 == 3]\n",
        "\n",
        "print('Red primes:',redprimes[:20]) # The first 20 red primes.\n",
        "print('Blue primes:',blueprimes[:20]) # The first 20 blue primes."
      ],
      "execution_count": null,
      "outputs": [
        {
          "output_type": "stream",
          "text": [
            "Red primes: [5, 13, 17, 29, 37, 41, 53, 61, 73, 89, 97, 101, 109, 113, 137, 149, 157, 173, 181, 193]\n",
            "Blue primes: [3, 7, 11, 19, 23, 31, 43, 47, 59, 67, 71, 79, 83, 103, 107, 127, 131, 139, 151, 163]\n"
          ],
          "name": "stdout"
        }
      ]
    },
    {
      "cell_type": "code",
      "metadata": {
        "id": "XXK10HG4o1Ny",
        "colab": {
          "base_uri": "https://localhost:8080/"
        },
        "outputId": "ad0f3f05-f2b4-4f6e-d8eb-21c2f4741333"
      },
      "source": [
        "print(\"There are {} red primes and {} blue primes, up to 1 million.\".format(len(redprimes), len(blueprimes)))"
      ],
      "execution_count": null,
      "outputs": [
        {
          "output_type": "stream",
          "text": [
            "There are 39175 red primes and 39322 blue primes, up to 1 million.\n"
          ],
          "name": "stdout"
        }
      ]
    },
    {
      "cell_type": "markdown",
      "metadata": {
        "id": "EMVjQlHuo1Ny"
      },
      "source": [
        "This is pretty close!  It seems like prime numbers are about evenly distributed between red and blue.  Their remainder after division by 4 is about as likely to be 1 as it is to be 3.  In fact, it is proven that *asymptotically* the ratio between the number of red primes and the number of blue primes approaches 1.  However, Chebyshev noticed a persistent slight bias towards blue primes along the way."
      ]
    },
    {
      "cell_type": "markdown",
      "metadata": {
        "id": "iBN5IBLwo1Ny"
      },
      "source": [
        "Some of the deepest conjectures in mathematics relate to the [prime counting function](https://en.wikipedia.org/wiki/Prime-counting_function) $\\pi(x)$.  Here $\\pi(x)$ is the **number of primes** between 1 and $x$ (inclusive).  So $\\pi(2) = 1$ and $\\pi(3) = 2$ and $\\pi(4) = 2$ and $\\pi(5) = 3$.  One can compute a value of $\\pi(x)$ pretty easily using a list comprehension.\n",
        "\n"
      ]
    },
    {
      "cell_type": "code",
      "metadata": {
        "id": "oFK7OGHoo1Nz"
      },
      "source": [
        "def primes_upto(x):\n",
        "    return len([p for p in primes if p <= x]) # List comprehension recovers the primes up to x."
      ],
      "execution_count": null,
      "outputs": []
    },
    {
      "cell_type": "code",
      "metadata": {
        "id": "eCi28UhMo1Nz",
        "colab": {
          "base_uri": "https://localhost:8080/"
        },
        "outputId": "34d68310-b292-43be-8d27-b5a4464a8afb"
      },
      "source": [
        "primes_upto(1000)  # There are 168 primes between 1 and 1000."
      ],
      "execution_count": null,
      "outputs": [
        {
          "output_type": "execute_result",
          "data": {
            "text/plain": [
              "168"
            ]
          },
          "metadata": {
            "tags": []
          },
          "execution_count": 25
        }
      ]
    },
    {
      "cell_type": "markdown",
      "metadata": {
        "id": "ZlnkhYw7o1Nz"
      },
      "source": [
        "Now we graph the prime counting function.  To do this, we use a list comprehension, and the visualization library called matplotlib.  For graphing a function, the basic idea is to create a list of x-values, a list of corresponding y-values (so the lists have to be the same length!), and then we feed the two lists into matplotlib to make the graph.\n",
        "\n",
        "We begin by loading the necessary packages."
      ]
    },
    {
      "cell_type": "code",
      "metadata": {
        "id": "cvVF2M5Go1Nz"
      },
      "source": [
        "import matplotlib  #  A powerful graphics package.\n",
        "import numpy  #  A math package\n",
        "import matplotlib.pyplot as plt  # A plotting subpackage in matplotlib."
      ],
      "execution_count": null,
      "outputs": []
    },
    {
      "cell_type": "markdown",
      "metadata": {
        "id": "-iouxGxro1Nz"
      },
      "source": [
        "Now let's graph the function $y = x^2$ over the domain $-2 \\leq x \\leq 2$ for practice.  As a first step, we use numpy's `linspace` function to create an evenly spaced set of 11 x-values between -2 and 2."
      ]
    },
    {
      "cell_type": "code",
      "metadata": {
        "id": "n7oh0AAAo1Nz",
        "colab": {
          "base_uri": "https://localhost:8080/"
        },
        "outputId": "83df6277-3510-4fe1-9a3f-9aaf97204feb"
      },
      "source": [
        "x_values = numpy.linspace(-2,2,11)  # The argument 11 is the *number* of terms, not the step size!\n",
        "print(x_values)\n",
        "type(x_values)"
      ],
      "execution_count": null,
      "outputs": [
        {
          "output_type": "stream",
          "text": [
            "[-2.  -1.6 -1.2 -0.8 -0.4  0.   0.4  0.8  1.2  1.6  2. ]\n"
          ],
          "name": "stdout"
        },
        {
          "output_type": "execute_result",
          "data": {
            "text/plain": [
              "numpy.ndarray"
            ]
          },
          "metadata": {
            "tags": []
          },
          "execution_count": 109
        }
      ]
    },
    {
      "cell_type": "markdown",
      "metadata": {
        "id": "idcqPGZ0o1Nz"
      },
      "source": [
        "You might notice that the format looks a bit different from a list.  Indeed, if you check `type(x_values)`, it's not a list but something else called a numpy array.  Numpy is a package that excels with computations on large arrays of data.  On the surface, it's not so different from a list.  The `numpy.linspace` command is a convenient way of producing an evenly spaced list of inputs.\n",
        "\n",
        "The big difference is that operations on numpy arrays are interpreted differently than operations on ordinary Python lists.  Try the two commands for comparison."
      ]
    },
    {
      "cell_type": "code",
      "metadata": {
        "id": "5LjKKSeZo1Nz",
        "colab": {
          "base_uri": "https://localhost:8080/"
        },
        "outputId": "8318a086-fd0d-4fe2-b9ea-970562d86f60"
      },
      "source": [
        "[1,2,3] + [1,2,3]"
      ],
      "execution_count": null,
      "outputs": [
        {
          "output_type": "execute_result",
          "data": {
            "text/plain": [
              "[1, 2, 3, 1, 2, 3]"
            ]
          },
          "metadata": {
            "tags": []
          },
          "execution_count": 27
        }
      ]
    },
    {
      "cell_type": "code",
      "metadata": {
        "id": "qZFk1LBJo1Nz",
        "colab": {
          "base_uri": "https://localhost:8080/"
        },
        "outputId": "96fd01df-d69c-440f-d863-9e2f3b0fc9bd"
      },
      "source": [
        "x_values + x_values"
      ],
      "execution_count": null,
      "outputs": [
        {
          "output_type": "execute_result",
          "data": {
            "text/plain": [
              "array([-4. , -3.2, -2.4, -1.6, -0.8,  0. ,  0.8,  1.6,  2.4,  3.2,  4. ])"
            ]
          },
          "metadata": {
            "tags": []
          },
          "execution_count": 28
        }
      ]
    },
    {
      "cell_type": "code",
      "metadata": {
        "id": "LyesLSuPo1N0",
        "colab": {
          "base_uri": "https://localhost:8080/"
        },
        "outputId": "81b49d1c-462e-4a87-a487-f70d1af5d946"
      },
      "source": [
        "y_values = x_values * x_values  # How is multiplication interpreted on numpy arrays?\n",
        "print(y_values)"
      ],
      "execution_count": null,
      "outputs": [
        {
          "output_type": "stream",
          "text": [
            "[4.   2.56 1.44 0.64 0.16 0.   0.16 0.64 1.44 2.56 4.  ]\n"
          ],
          "name": "stdout"
        }
      ]
    },
    {
      "cell_type": "markdown",
      "metadata": {
        "id": "uAFegDVTo1N0"
      },
      "source": [
        "Now we use matplotlib to create a simple line graph."
      ]
    },
    {
      "cell_type": "code",
      "metadata": {
        "id": "tjB51noto1N0",
        "colab": {
          "base_uri": "https://localhost:8080/",
          "height": 299
        },
        "outputId": "38ff9d87-aeeb-4616-99f2-366929f5f018"
      },
      "source": [
        "%matplotlib inline\n",
        "plt.plot(x_values, y_values)\n",
        "plt.title('The graph of $y = x^2$')  # The dollar signs surround the formula, in LaTeX format.\n",
        "plt.ylabel('y')\n",
        "plt.xlabel('x')\n",
        "plt.grid(True)\n",
        "plt.show()\n"
      ],
      "execution_count": null,
      "outputs": [
        {
          "output_type": "display_data",
          "data": {
            "image/png": "[encoded data removed]",
            "text/plain": [
              "<Figure size 432x288 with 1 Axes>"
            ]
          },
          "metadata": {
            "tags": [],
            "needs_background": "light"
          }
        }
      ]
    },
    {
      "cell_type": "markdown",
      "metadata": {
        "id": "9Wg3S1WTo1N0"
      },
      "source": [
        "Let's analyze the graphing code a bit more.  See the [official pyplot tutorial](https://matplotlib.org/users/pyplot_tutorial.html) for more details.  \n",
        "```python\n",
        "%matplotlib inline\n",
        "plt.plot(x_values, y_values)\n",
        "plt.title('The graph of $y = x^2$')  # The dollar signs surround the formula, in LaTeX format.\n",
        "plt.ylabel('y')\n",
        "plt.xlabel('x')\n",
        "plt.grid(True)\n",
        "plt.show()\n",
        "```\n",
        "The first line contains the **magic** `%matplotlib inline`.  We have seen a magic word before, in `%timeit`.  [Magic words](http://ipython.readthedocs.io/en/stable/interactive/magics.html) can call another program to assist.  So here, the magic `%matplotlib inline` calls matplotlib for help, and places the resulting figure within the notebook.\n",
        "\n",
        "The next line `plt.plot(x_values, y_values)` creates a `plot object` based on the data of the x-values and y-values.  It is an abstract sort of object, behind the scenes, in a format that matplotlib understands.  The following lines set the title of the plot, the axis labels, and turns a grid on.  The last line `plt.show` renders the plot as an image in your notebook.  There's an infinite variety of graphs that matplotlib can produce -- see [the gallery](https://matplotlib.org/gallery.html) for more!  Other graphics packages include [bokeh](http://bokeh.pydata.org/en/latest/) and [seaborn](http://seaborn.pydata.org/), which extends matplotlib."
      ]
    },
    {
      "cell_type": "markdown",
      "metadata": {
        "id": "b0yTOq4-o1N0"
      },
      "source": [
        "### Analysis of the prime counting function\n",
        "\n",
        "Now, to analyze the prime counting function, let's graph it.  To make a graph, we will first need a list of many values of x and many corresponding values of $\\pi(x)$.  We do this with two commands.  The first might take a minute to compute."
      ]
    },
    {
      "cell_type": "code",
      "metadata": {
        "id": "gnKV26bno1N0"
      },
      "source": [
        "x_values = numpy.linspace(0,1000000,1001) # The numpy array [0,1000,2000,3000,...,1000000]\n",
        "pix_values = numpy.array([primes_upto(x) for x in x_values])  # [FUNCTION(x) for x in LIST] syntax"
      ],
      "execution_count": null,
      "outputs": []
    },
    {
      "cell_type": "markdown",
      "metadata": {
        "id": "aqlila-uo1N0"
      },
      "source": [
        "We created an array of x-values as before.  But the creation of an array of y-values (here, called `pix_values` to stand for $\\pi(x)$) probably looks strange.  We have done two new things!\n",
        "\n",
        "1.  We have used a list comprehension `[primes_upto(x) for x in x_values]` to create a **list** of y-values.\n",
        "2.  We have used numpy.array(LIST) syntax to convert a Python list into a numpy array.\n",
        "\n",
        "First, we explain the list comprehension.  Instead of pulling out values of a list according to a condition, with `[x for x in LIST if CONDITION]`, we have created a new list based on performing a function each element of a list.  The syntax, used above, is `[FUNCTION(x) for x in LIST]`.  These two methods of list comprehension can be combined, in fact.  The most general syntax for list comprehension is `[FUNCTION(x) for x in LIST if CONDITION]`.\n",
        "\n",
        "Second, a list comprehension can be carried out on a numpy array, but the result is a plain Python list.  It will be better to have a numpy array instead for what follows, so we use the `numpy.array()` function to convert the list into a numpy array."
      ]
    },
    {
      "cell_type": "code",
      "metadata": {
        "id": "i2DlTbsho1N0",
        "colab": {
          "base_uri": "https://localhost:8080/"
        },
        "outputId": "008d49ca-d238-437e-ee7a-dd804975a7cf"
      },
      "source": [
        "type(numpy.array([1,2,3]))  # For example."
      ],
      "execution_count": null,
      "outputs": [
        {
          "output_type": "execute_result",
          "data": {
            "text/plain": [
              "numpy.ndarray"
            ]
          },
          "metadata": {
            "tags": []
          },
          "execution_count": 33
        }
      ]
    },
    {
      "cell_type": "markdown",
      "metadata": {
        "id": "BMmq8Fx4o1N0"
      },
      "source": [
        "Now we have two numpy arrays:  the array of x-values and the array of y-values.  We can make a plot with matplotlib."
      ]
    },
    {
      "cell_type": "code",
      "metadata": {
        "id": "Cq5kg4HPo1N0",
        "colab": {
          "base_uri": "https://localhost:8080/"
        },
        "outputId": "eafdc937-a015-4796-deb0-a95568d8ec23"
      },
      "source": [
        "len(x_values) == len(pix_values)  # These better be the same, or else matplotlib will be unhappy."
      ],
      "execution_count": null,
      "outputs": [
        {
          "output_type": "execute_result",
          "data": {
            "text/plain": [
              "True"
            ]
          },
          "metadata": {
            "tags": []
          },
          "execution_count": 34
        }
      ]
    },
    {
      "cell_type": "code",
      "metadata": {
        "id": "DEfDVt9Wo1N0",
        "colab": {
          "base_uri": "https://localhost:8080/",
          "height": 295
        },
        "outputId": "8da5f47b-84ec-4820-8236-b5aaae1d5e1f"
      },
      "source": [
        "%matplotlib inline\n",
        "plt.plot(x_values, pix_values)\n",
        "plt.title('The prime counting function')\n",
        "plt.ylabel('$\\pi(x)$')\n",
        "plt.xlabel('x')\n",
        "plt.grid(True)\n",
        "plt.show()"
      ],
      "execution_count": null,
      "outputs": [
        {
          "output_type": "display_data",
          "data": {
            "image/png": "[encoded data removed]",
            "text/plain": [
              "<Figure size 432x288 with 1 Axes>"
            ]
          },
          "metadata": {
            "tags": [],
            "needs_background": "light"
          }
        }
      ]
    },
    {
      "cell_type": "markdown",
      "metadata": {
        "id": "R7djMP0do1N1"
      },
      "source": [
        "In this range, the prime counting function might look nearly linear.  But if you look closely, there's a subtle downward bend.  This is more pronounced in smaller ranges.  For example, let's look at the first 10 x-values and y-values only."
      ]
    },
    {
      "cell_type": "code",
      "metadata": {
        "id": "oTPTeUX4o1N1",
        "colab": {
          "base_uri": "https://localhost:8080/",
          "height": 295
        },
        "outputId": "3887c3d1-8e2c-4bbc-d8de-9364fc3ac2a0"
      },
      "source": [
        "%matplotlib inline\n",
        "plt.plot(x_values[:10], pix_values[:10])  # Look closer to 0.\n",
        "plt.title('The prime counting function')\n",
        "plt.ylabel('$\\pi(x)$')\n",
        "plt.xlabel('x')\n",
        "plt.grid(True)\n",
        "plt.show()"
      ],
      "execution_count": null,
      "outputs": [
        {
          "output_type": "display_data",
          "data": {
            "image/png": "[encoded data removed]",
            "text/plain": [
              "<Figure size 432x288 with 1 Axes>"
            ]
          },
          "metadata": {
            "tags": [],
            "needs_background": "light"
          }
        }
      ]
    },
    {
      "cell_type": "markdown",
      "metadata": {
        "id": "EnrdVEyCo1N1"
      },
      "source": [
        "It still looks almost linear, but there's a visible downward bend here.  How can we see this bend more clearly?  If the graph were linear, its equation would have the form $\\pi(x) = mx$ for some fixed slope $m$ (since the graph *does* pass through the origin).  Therefore, the quantity $\\pi(x)/x$ would be *constant* if the graph were linear.  \n",
        "\n",
        "Hence, if we graph $\\pi(x) / x$ on the y-axis and $x$ on the x-axis, and the result is nonconstant, then the function $\\pi(x)$ is nonlinear."
      ]
    },
    {
      "cell_type": "code",
      "metadata": {
        "id": "ZgRF7b2Ko1N1"
      },
      "source": [
        "m_values = pix_values[1:] / x_values[1:]  # We start at 1, to avoid a division by zero error."
      ],
      "execution_count": null,
      "outputs": []
    },
    {
      "cell_type": "code",
      "metadata": {
        "id": "-grvUV4so1N1",
        "colab": {
          "base_uri": "https://localhost:8080/",
          "height": 297
        },
        "outputId": "390096c5-8ecf-4270-cbc7-2a62460e69ca"
      },
      "source": [
        "%matplotlib inline\n",
        "plt.plot(x_values[1:], m_values)\n",
        "plt.title('The ratio $\\pi(x) / x$ as $x$ varies.')\n",
        "plt.xlabel('x')\n",
        "plt.ylabel('$\\pi(x) / x$')\n",
        "plt.grid(True)\n",
        "plt.show()"
      ],
      "execution_count": null,
      "outputs": [
        {
          "output_type": "display_data",
          "data": {
            "image/png": "[encoded data removed]",
            "text/plain": [
              "<Figure size 432x288 with 1 Axes>"
            ]
          },
          "metadata": {
            "tags": [],
            "needs_background": "light"
          }
        }
      ]
    },
    {
      "cell_type": "markdown",
      "metadata": {
        "id": "HwGVsVlxo1N1"
      },
      "source": [
        "That is certainly not constant!  The decay of $\\pi(x) / x$ is not so different from $1 / \\log(x)$, in fact.  To see this, let's overlay the graphs.  We use the `numpy.log` function, which computes the natural logarithm of its input (and allows an entire array as input)."
      ]
    },
    {
      "cell_type": "code",
      "metadata": {
        "id": "YlSSqcDko1N1",
        "colab": {
          "base_uri": "https://localhost:8080/",
          "height": 297
        },
        "outputId": "7d45f8eb-7763-453e-cb39-bda168805d4d"
      },
      "source": [
        "%matplotlib inline\n",
        "plt.plot(x_values[1:], m_values, label='$\\pi(x)/x$')  # The same as the plot above.\n",
        "plt.plot(x_values[1:], 1 / numpy.log(x_values[1:]), label='$1 / \\log(x)$')  # Overlay the graph of 1 / log(x)\n",
        "plt.title('The ratio of $\\pi(x) / x$ as $x$ varies.')\n",
        "plt.xlabel('x')\n",
        "plt.ylabel('$\\pi(x) / x$')\n",
        "plt.grid(True)\n",
        "plt.legend()  # Turn on the legend.\n",
        "plt.show()"
      ],
      "execution_count": null,
      "outputs": [
        {
          "output_type": "display_data",
          "data": {
            "image/png": "[encoded data removed]",
            "text/plain": [
              "<Figure size 432x288 with 1 Axes>"
            ]
          },
          "metadata": {
            "tags": [],
            "needs_background": "light"
          }
        }
      ]
    },
    {
      "cell_type": "markdown",
      "metadata": {
        "id": "zrPg3i8-o1N1"
      },
      "source": [
        "The shape of the decay of $\\pi(x) / x$ is very close to $1 / \\log(x)$, but it looks like there is an offset.  In fact, there is, and it is pretty close to $1 / \\log(x)^2$.  And that is close, but again there's another little offset, this time proportional to $2 / \\log(x)^3$.  This goes on forever, if one wishes to approximate $\\pi(x) / x$ by an \"asymptotic expansion\" (not a good idea, it turns out).\n",
        "\n",
        "The closeness of $\\pi(x) / x$ to $1 / \\log(x)$ is expressed in the **prime number theorem**:\n",
        "$$\\lim_{x \\rightarrow \\infty} \\frac{\\pi(x)}{x / \\log(x)} = 1.$$"
      ]
    },
    {
      "cell_type": "code",
      "metadata": {
        "id": "NWQ3CIVwo1N1",
        "colab": {
          "base_uri": "https://localhost:8080/",
          "height": 297
        },
        "outputId": "6012062f-85ef-4689-8f0d-e0120b5706a1"
      },
      "source": [
        "%matplotlib inline\n",
        "plt.plot(x_values[1:], m_values * numpy.log(x_values[1:])  )  # Should get closer to 1.\n",
        "plt.title('The ratio $\\pi(x) / (x / \\log(x))$ approaches 1... slowly')\n",
        "plt.xlabel('x')\n",
        "plt.ylabel('$\\pi(x) / (x / \\log(x)) $')\n",
        "plt.ylim(0.8,1.2)\n",
        "plt.grid(True)\n",
        "plt.show()"
      ],
      "execution_count": null,
      "outputs": [
        {
          "output_type": "display_data",
          "data": {
            "image/png": "[encoded data removed]",
            "text/plain": [
              "<Figure size 432x288 with 1 Axes>"
            ]
          },
          "metadata": {
            "tags": [],
            "needs_background": "light"
          }
        }
      ]
    },
    {
      "cell_type": "markdown",
      "metadata": {
        "id": "X6ELoOO-o1N1"
      },
      "source": [
        "Comparing the graph to the theoretical result, we find that the ratio $\\pi(x) / (x / \\log(x))$ approaches $1$ (the theoretical result) but very slowly (see the graph above!)."
      ]
    },
    {
      "cell_type": "markdown",
      "metadata": {
        "id": "aqXOKRako1N1"
      },
      "source": [
        "A much stronger result relates $\\pi(x)$ to the \"logarithmic integral\" $li(x)$.  The [Riemann hypothesis](http://www.claymath.org/millennium-problems/riemann-hypothesis) is equivalent to the statement\n",
        "$$\\left\\vert \\pi(x) - li(x) \\right\\vert = O(\\sqrt{x} \\log(x)).$$\n",
        "In other words, the error if one approximates $\\pi(x)$ by $li(x)$ is bounded by a constant times $\\sqrt{x} \\log(x)$.  The logarithmic integral function isn't part of Python or numpy, but it is in the mpmath package.  If you have this package installed, then you can try the following."
      ]
    },
    {
      "cell_type": "code",
      "metadata": {
        "id": "KqOcdcCjo1N2"
      },
      "source": [
        "from mpmath import li"
      ],
      "execution_count": null,
      "outputs": []
    },
    {
      "cell_type": "code",
      "metadata": {
        "id": "Pgee6LGxo1N2",
        "colab": {
          "base_uri": "https://localhost:8080/"
        },
        "outputId": "0fcf9784-8c02-4325-e037-fbd7653fc353"
      },
      "source": [
        "print(primes_upto(1000000))  # The number of primes up to 1 million.\n",
        "print(li(1000000))  # The logarithmic integral of 1 million."
      ],
      "execution_count": null,
      "outputs": [
        {
          "output_type": "stream",
          "text": [
            "78498\n",
            "78627.5491594622\n"
          ],
          "name": "stdout"
        }
      ]
    },
    {
      "cell_type": "markdown",
      "metadata": {
        "id": "8Ak3l_pPo1N2"
      },
      "source": [
        "Not too shabby!"
      ]
    },
    {
      "cell_type": "markdown",
      "metadata": {
        "id": "Sp7gn8eto1N2"
      },
      "source": [
        "### Prime gaps\n",
        "\n",
        "As a last bit of data analysis, we consider the **prime gaps**.  These are the numbers that occur as differences between consecutive primes.  Since all primes except 2 are odd, all prime gaps are even except for the 1-unit gap between 2 and 3.  There are many unsolved problems about prime gaps; the most famous might be that a gap of 2 occurs infinitely often (as in the gaps between 3,5 and between 11,13 and between 41,43, etc.).\n",
        "\n",
        "Once we have our data set of prime numbers, it is not hard to create a data set of prime gaps.  Recall that `primes` is our list of prime numbers up to 1 million."
      ]
    },
    {
      "cell_type": "code",
      "metadata": {
        "id": "NHd3eV32o1N2",
        "colab": {
          "base_uri": "https://localhost:8080/"
        },
        "outputId": "6a2dde0e-896b-411c-fec3-04cebebeb89a"
      },
      "source": [
        "len(primes) # The number of primes up to 1 million."
      ],
      "execution_count": null,
      "outputs": [
        {
          "output_type": "execute_result",
          "data": {
            "text/plain": [
              "78498"
            ]
          },
          "metadata": {
            "tags": []
          },
          "execution_count": 43
        }
      ]
    },
    {
      "cell_type": "code",
      "metadata": {
        "id": "XHc6S5mzo1N2"
      },
      "source": [
        "primes_allbutlast = primes[:-1]  # This excludes the last prime in the list.\n",
        "primes_allbutfirst = primes[1:]  # This excludes the first (i.e., with index 0) prime in the list."
      ],
      "execution_count": null,
      "outputs": []
    },
    {
      "cell_type": "code",
      "metadata": {
        "id": "QBIkUK5eo1N2"
      },
      "source": [
        "primegaps = numpy.array(primes_allbutfirst) - numpy.array(primes_allbutlast) # Numpy is fast!"
      ],
      "execution_count": null,
      "outputs": []
    },
    {
      "cell_type": "code",
      "metadata": {
        "id": "tqGLrNREo1N2",
        "colab": {
          "base_uri": "https://localhost:8080/"
        },
        "outputId": "540abae8-2089-463c-b1ac-6b407cf408f3"
      },
      "source": [
        "print(primegaps[:100])  # The first hundred prime gaps!"
      ],
      "execution_count": null,
      "outputs": [
        {
          "output_type": "stream",
          "text": [
            "[ 1  2  2  4  2  4  2  4  6  2  6  4  2  4  6  6  2  6  4  2  6  4  6  8\n",
            "  4  2  4  2  4 14  4  6  2 10  2  6  6  4  6  6  2 10  2  4  2 12 12  4\n",
            "  2  4  6  2 10  6  6  6  2  6  4  2 10 14  4  2  4 14  6 10  2  4  6  8\n",
            "  6  6  4  6  8  4  8 10  2 10  2  6  4  6  8  4  2  4 12  8  4  8  4  6\n",
            " 12  2 18  6]\n"
          ],
          "name": "stdout"
        }
      ]
    },
    {
      "cell_type": "markdown",
      "metadata": {
        "id": "nmMeiaSpo1N2"
      },
      "source": [
        "What have we done?  It is useful to try out this method on a short list.  "
      ]
    },
    {
      "cell_type": "code",
      "metadata": {
        "id": "on-JH3dTo1N2"
      },
      "source": [
        "L = [1,3,7,20]  # A nice short list."
      ],
      "execution_count": null,
      "outputs": []
    },
    {
      "cell_type": "code",
      "metadata": {
        "id": "f4iyePe3o1N2",
        "colab": {
          "base_uri": "https://localhost:8080/"
        },
        "outputId": "bd6f56da-0ddf-4eea-cfa2-4cd37412d554"
      },
      "source": [
        "print(L[:-1])\n",
        "print(L[1:])"
      ],
      "execution_count": null,
      "outputs": [
        {
          "output_type": "stream",
          "text": [
            "[1, 3, 7]\n",
            "[3, 7, 20]\n"
          ],
          "name": "stdout"
        }
      ]
    },
    {
      "cell_type": "markdown",
      "metadata": {
        "id": "gpKfCHEEo1N3"
      },
      "source": [
        "Now we have two lists of the same length.  The gaps in the original list `L` are the differences between terms of the *same* index in the two new lists.  One might be tempted to just subtract, e.g., with the command `L[1:] - L[:-1]`, but subtraction is not defined for lists.\n",
        "\n",
        "Fortunately, by converting the lists to numpy arrays, we can use numpy's term-by-term subtraction operation."
      ]
    },
    {
      "cell_type": "code",
      "metadata": {
        "id": "H2Ob8Jkro1N3",
        "colab": {
          "base_uri": "https://localhost:8080/",
          "height": 164
        },
        "outputId": "8a9e569c-a4bd-4b5d-d386-72eb9abfd1e0"
      },
      "source": [
        "L[1:] - L[:-1]  # This will give a TypeError.  You can't subtract lists!"
      ],
      "execution_count": null,
      "outputs": [
        {
          "output_type": "error",
          "ename": "TypeError",
          "evalue": "ignored",
          "traceback": [
            "\u001b[0;31m---------------------------------------------------------------------------\u001b[0m",
            "\u001b[0;31mTypeError\u001b[0m                                 Traceback (most recent call last)",
            "\u001b[0;32m<ipython-input-49-0c27eb74e0a4>\u001b[0m in \u001b[0;36m<module>\u001b[0;34m()\u001b[0m\n\u001b[0;32m----> 1\u001b[0;31m \u001b[0mL\u001b[0m\u001b[0;34m[\u001b[0m\u001b[0;36m1\u001b[0m\u001b[0;34m:\u001b[0m\u001b[0;34m]\u001b[0m \u001b[0;34m-\u001b[0m \u001b[0mL\u001b[0m\u001b[0;34m[\u001b[0m\u001b[0;34m:\u001b[0m\u001b[0;34m-\u001b[0m\u001b[0;36m1\u001b[0m\u001b[0;34m]\u001b[0m  \u001b[0;31m# This will give a TypeError.  You can't subtract lists!\u001b[0m\u001b[0;34m\u001b[0m\u001b[0;34m\u001b[0m\u001b[0m\n\u001b[0m",
            "\u001b[0;31mTypeError\u001b[0m: unsupported operand type(s) for -: 'list' and 'list'"
          ]
        }
      ]
    },
    {
      "cell_type": "code",
      "metadata": {
        "id": "lSkR4Dxho1N3",
        "colab": {
          "base_uri": "https://localhost:8080/"
        },
        "outputId": "1ea84299-f07a-42b6-aaba-42b182ed35f7"
      },
      "source": [
        "numpy.array(L[1:]) - numpy.array(L[:-1])  # That's better.  See the gaps in the list [1,3,7,20] in the output."
      ],
      "execution_count": null,
      "outputs": [
        {
          "output_type": "execute_result",
          "data": {
            "text/plain": [
              "array([ 2,  4, 13])"
            ]
          },
          "metadata": {
            "tags": []
          },
          "execution_count": 50
        }
      ]
    },
    {
      "cell_type": "markdown",
      "metadata": {
        "id": "-dVIfFnVo1N3"
      },
      "source": [
        "Now let's return to our primegaps data set.  It contains all the gap-sizes for primes up to 1 million.  "
      ]
    },
    {
      "cell_type": "code",
      "metadata": {
        "id": "i9FFJvMbo1N3",
        "colab": {
          "base_uri": "https://localhost:8080/"
        },
        "outputId": "b1a3922f-e524-4a09-faa7-ce9a64125357"
      },
      "source": [
        "print(len(primes))\n",
        "print(len(primegaps))  # This should be one less than the number of primes."
      ],
      "execution_count": null,
      "outputs": [
        {
          "output_type": "stream",
          "text": [
            "78498\n",
            "78497\n"
          ],
          "name": "stdout"
        }
      ]
    },
    {
      "cell_type": "markdown",
      "metadata": {
        "id": "hz93cWX1o1N3"
      },
      "source": [
        "As a last example of data visualization, we use matplotlib to produce a histogram of the prime gaps."
      ]
    },
    {
      "cell_type": "code",
      "metadata": {
        "id": "6V5Nj_MCo1N3",
        "colab": {
          "base_uri": "https://localhost:8080/"
        },
        "outputId": "5c425f31-e59c-4653-a486-34c4ffabad29"
      },
      "source": [
        "max(primegaps)  # The largest prime gap that appears!"
      ],
      "execution_count": null,
      "outputs": [
        {
          "output_type": "execute_result",
          "data": {
            "text/plain": [
              "114"
            ]
          },
          "metadata": {
            "tags": []
          },
          "execution_count": 52
        }
      ]
    },
    {
      "cell_type": "code",
      "metadata": {
        "id": "rOFsdO1Uo1N3",
        "colab": {
          "base_uri": "https://localhost:8080/",
          "height": 350
        },
        "outputId": "1112ff7e-646f-4d89-fca7-5474f4db5056"
      },
      "source": [
        "%matplotlib inline\n",
        "plt.figure(figsize=(12, 5))  #  Makes the resulting figure 12in by 5in.\n",
        "plt.hist(primegaps, bins=range(1,115)) #  Makes a histogram with one bin for each possible gap from 1 to 114.\n",
        "plt.ylabel('Frequency')\n",
        "plt.xlabel('Gap size')\n",
        "plt.grid(True)\n",
        "plt.title('The frequency of prime gaps, for primes up to 1 million')\n",
        "plt.show()"
      ],
      "execution_count": null,
      "outputs": [
        {
          "output_type": "display_data",
          "data": {
            "image/png": "[encoded data removed]",
            "text/plain": [
              "<Figure size 864x360 with 1 Axes>"
            ]
          },
          "metadata": {
            "tags": [],
            "needs_background": "light"
          }
        }
      ]
    },
    {
      "cell_type": "markdown",
      "metadata": {
        "id": "kkWLq7QLo1N3"
      },
      "source": [
        "Observe that gaps of 2 (twin primes) are pretty frequent.  There are over 8000 of them, and about the same number of 4-unit gaps!  But gaps of 6 are most frequent in the population, and there are some interesting peaks at 6, 12, 18, 24, 30.  What else do you observe?"
      ]
    },
    {
      "cell_type": "markdown",
      "metadata": {
        "id": "yt5JakuSo1N3"
      },
      "source": [
        "### Exercises\n",
        "\n",
        "1.  Create functions `redprimes_upto(x)` and `blueprimes_upto(x)` which count the number of red/blue primes up to a given number `x`.  Recall that we defined red/blue primes to be those of the form 4n+1 or 4n+3, respectively.  Graph the relative proportion of red/blue primes as `x` varies from 1 to 1 million.  E.g., are the proportions 50%/50% or 70%/30%, and how do these proportions change?  Note:  this is also visualized in [An Illustrated Theory of Numbers](http://bookstore.ams.org/mbk-105) and you can read [an article by Rubinstein and Sarnak](https://projecteuclid.org/euclid.em/1048515870) for more.\n",
        "\n",
        "2.  Does there seem to be a bias in the last digits of primes?  Note that, except for 2 and 5, every prime ends in 1,3,7, or 9.  Note: the last digit of a number `n` is obtained from `n % 10`.  \n",
        "\n",
        "3.  Read about the [\"Prime Conspiracy\"](https://www.quantamagazine.org/mathematicians-discover-prime-conspiracy-20160313), recently discovered by Lemke Oliver and Soundararajan.  Can you detect their conspiracy in our data set of primes?"
      ]
    },
    {
      "cell_type": "markdown",
      "metadata": {
        "id": "ddYsmdD-x2Pw"
      },
      "source": [
        "####Question 1"
      ]
    },
    {
      "cell_type": "code",
      "metadata": {
        "id": "bX1jxeG4x15a"
      },
      "source": [
        "def redprimes_upto(x):\n",
        "  redprimes = [p for p in primes if p%4 == 1]\n",
        "  return len([p for p in redprimes if p <= x])"
      ],
      "execution_count": null,
      "outputs": []
    },
    {
      "cell_type": "code",
      "metadata": {
        "colab": {
          "base_uri": "https://localhost:8080/"
        },
        "id": "6ZMKnIRQySHx",
        "outputId": "2938d563-64c2-48fd-acd6-812f00f22e9d"
      },
      "source": [
        "redprimes_upto(1000000)"
      ],
      "execution_count": 353,
      "outputs": [
        {
          "output_type": "execute_result",
          "data": {
            "text/plain": [
              "39175"
            ]
          },
          "metadata": {
            "tags": []
          },
          "execution_count": 353
        }
      ]
    },
    {
      "cell_type": "code",
      "metadata": {
        "id": "vN3vanYA1y-b"
      },
      "source": [
        "def blueprimes_upto(x):\n",
        "  blueprimes = [p for p in primes if p%4 == 3]\n",
        "  return len([p for p in blueprimes if p <= x])"
      ],
      "execution_count": null,
      "outputs": []
    },
    {
      "cell_type": "code",
      "metadata": {
        "colab": {
          "base_uri": "https://localhost:8080/"
        },
        "id": "474VITuE2AeY",
        "outputId": "fc5da5f0-8c36-462e-8c62-afc5b9078d8c"
      },
      "source": [
        "blueprimes_upto(1000000)"
      ],
      "execution_count": 354,
      "outputs": [
        {
          "output_type": "execute_result",
          "data": {
            "text/plain": [
              "39322"
            ]
          },
          "metadata": {
            "tags": []
          },
          "execution_count": 354
        }
      ]
    },
    {
      "cell_type": "code",
      "metadata": {
        "id": "g5zNFXyZc8u6"
      },
      "source": [
        "x_values = numpy.linspace(1,1000000,1001) \n",
        "pix1_value = numpy.array([blueprimes_upto(x) for x in x_values])  \n",
        "pix2_value = numpy.array([redprimes_upto(x) for x in x_values])"
      ],
      "execution_count": null,
      "outputs": []
    },
    {
      "cell_type": "code",
      "metadata": {
        "colab": {
          "base_uri": "https://localhost:8080/",
          "height": 297
        },
        "id": "sX5f98PF34XG",
        "outputId": "e2882b80-4e01-402e-f840-39ba66b59e31"
      },
      "source": [
        "%matplotlib inline\n",
        "plt.plot(x_values[:2], pix1_value[:2], label = 'blueprimes')   \n",
        "plt.plot(x_values[:2], pix2_value[:2], label = 'redprimes') \n",
        "plt.title('The proportion of blueprimes/redprimes as $x$ varies.')\n",
        "plt.xlabel('x')\n",
        "plt.ylabel('blueprimes / redprimes')\n",
        "plt.grid(True)\n",
        "plt.legend()  # Turn on the legend.\n",
        "plt.show()"
      ],
      "execution_count": null,
      "outputs": [
        {
          "output_type": "display_data",
          "data": {
            "image/png": "[encoded data removed]",
            "text/plain": [
              "<Figure size 432x288 with 1 Axes>"
            ]
          },
          "metadata": {
            "tags": [],
            "needs_background": "light"
          }
        }
      ]
    },
    {
      "cell_type": "markdown",
      "metadata": {
        "id": "5SrRAbsohXbk"
      },
      "source": [
        "I would say the proportion is closer to 50%/50% than 70%/30%; however, there are consistantly more or equal amounts of blue primes than redprimes in all cases where x is greather than 2. I originally graphed the values as x varied from 1 to 1 million, but the slight difference between values was not as visible on that graph. The change in proportion on the graph isn't as noticeable as when you compare individual values with both functions and see that the difference between the redprimes and blueprimes increases as x increases. The difference stays below 300 all the way up to x = 1 million.  "
      ]
    },
    {
      "cell_type": "code",
      "metadata": {
        "colab": {
          "base_uri": "https://localhost:8080/",
          "height": 297
        },
        "id": "THXJsD6MiYNA",
        "outputId": "aff1a190-9662-438d-b21d-7f8e25f273ff"
      },
      "source": [
        "%matplotlib inline\n",
        "plt.plot(x_values[1:100], pix1_value[1:100], label = 'blueprimes')   \n",
        "plt.plot(x_values[1:100], pix2_value[1:100], label = 'redprimes') \n",
        "plt.title('The proportion of blueprimes/redprimes as $x$ varies.')\n",
        "plt.xlabel('x')\n",
        "plt.ylabel('blueprimes / redprimes')\n",
        "plt.grid(True)\n",
        "plt.legend()  # Turn on the legend.\n",
        "plt.show()"
      ],
      "execution_count": null,
      "outputs": [
        {
          "output_type": "display_data",
          "data": {
            "image/png": "[encoded data removed]",
            "text/plain": [
              "<Figure size 432x288 with 1 Axes>"
            ]
          },
          "metadata": {
            "tags": [],
            "needs_background": "light"
          }
        }
      ]
    },
    {
      "cell_type": "markdown",
      "metadata": {
        "id": "MJm4o__Zima_"
      },
      "source": [
        "When we zoom out a bit, we can see a slight downward facing curvature for both blueprimes and redprimes as x reaches 1 million. Although it isn't as noticeable, we can also see a growing size in the difference between the amount of blue/red primes. "
      ]
    },
    {
      "cell_type": "markdown",
      "metadata": {
        "id": "dXMXDuk-irYG"
      },
      "source": [
        "####Question 2"
      ]
    },
    {
      "cell_type": "markdown",
      "metadata": {
        "id": "HAW7OfOmiuir"
      },
      "source": [
        "One can notice that the prime number's expected four last digits (1, 3, 7, 9) don't often repeat after one another. I seem to notice some sort of discernable pattern of likelihood of digit occurrence. All prime numbers up to 100 excluding 2 and 5 end in 1,3,7, and 9 and these digits never repeat. Looking at the primes up to 300, this is also the case. This is very interesting as it is a pattern I never noticed and makes prime number analysis a field of mathematics that has expanded a lot. "
      ]
    },
    {
      "cell_type": "markdown",
      "metadata": {
        "id": "6l5N2XvHkZZn"
      },
      "source": [
        "####Question 3"
      ]
    },
    {
      "cell_type": "markdown",
      "metadata": {
        "id": "wDJ0RPb-kcxY"
      },
      "source": [
        "From the \"Prime Conspiracy,\" Mathematician Soundararajan found that prime numbers written in base three, and eventually in other bases revealed the likelihood for certain sequences of primes to occur at the last digit. Alongside Lemke Oliver, they were able to conjecture and find patterns in the last digit of prime numbers all the way up to 400 billion. Overall, they found that primes ending in 1, 3, 7 or 9 occur in roughly equal frequencies. This means that the pattern of primes are not random and the sequences hold biases. It's clearly that this conspiracy holds for our data set of primes. "
      ]
    }
  ]
}